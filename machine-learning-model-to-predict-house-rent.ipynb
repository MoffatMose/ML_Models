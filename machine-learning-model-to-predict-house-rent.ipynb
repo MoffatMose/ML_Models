{
 "cells": [
  {
   "cell_type": "markdown",
   "id": "2c958fff",
   "metadata": {
    "_cell_guid": "b1076dfc-b9ad-4769-8c92-a6c4dae69d19",
    "_uuid": "8f2839f25d086af736a60e9eeb907d3b93b6e0e5",
    "papermill": {
     "duration": 0.009421,
     "end_time": "2025-05-24T20:28:41.337044",
     "exception": false,
     "start_time": "2025-05-24T20:28:41.327623",
     "status": "completed"
    },
    "tags": []
   },
   "source": [
    "### Houserent prediction model\n",
    "\n",
    "## Background and problem\n",
    "\n",
    "In recent moments, it has been a hassle to find a house within you budget and preferences\n",
    "\n",
    "The cost of house rent depends on many factors such as; the house size, number of bedrooms, locality, number of bathrooms, halls, and kitchen, furnishing status, and a lot more. With the use of appropriate machine learning algorithms, real estate owners can find the ideal house according to customers’ budgets and preferences with ease.\n",
    "\n",
    "## Objectives\n",
    "\n",
    "The goal of this project is to:\n",
    "\n",
    "\n",
    "1. Implement a machine learning model with predicting the house rent for houses.\n",
    "2. Determine the essential features significantly needed to predict the house rent for homes.\n",
    "\n",
    "## Steps followed\n",
    "\n",
    "The basic procedures implemented to achieve the goals of this research are:\n",
    "\n",
    "1. Data collection\n",
    "\n",
    "2. Data cleaning and exploration\n",
    "\n",
    "3. Feature encoding\n",
    "\n",
    "4. Train-test split validation\n",
    "\n",
    "5. Feature scaling\n",
    "\n",
    "6. Modeling\n",
    "\n",
    "7. Model evaluation\n",
    "\n",
    "\n",
    "## Data collection.\n",
    "\n",
    "The dataset used in this project was obtained from [Kaggle](https://www.kaggle.com/datasets/iamsouravbanerjee/house-rent-prediction-dataset). It has information on about 4700+ houses available for rent with different parameters ranging from; size to the number of bedrooms, halls, and kitchens to the locality, and furnishing status, among others.\n"
   ]
  },
  {
   "cell_type": "code",
   "execution_count": 1,
   "id": "7e8b1bf2",
   "metadata": {
    "execution": {
     "iopub.execute_input": "2025-05-24T20:28:41.354535Z",
     "iopub.status.busy": "2025-05-24T20:28:41.354135Z",
     "iopub.status.idle": "2025-05-24T20:28:46.451535Z",
     "shell.execute_reply": "2025-05-24T20:28:46.450470Z"
    },
    "papermill": {
     "duration": 5.108012,
     "end_time": "2025-05-24T20:28:46.453206",
     "exception": false,
     "start_time": "2025-05-24T20:28:41.345194",
     "status": "completed"
    },
    "tags": []
   },
   "outputs": [],
   "source": [
    "import numpy as np\n",
    "import pandas as pd\n",
    "import seaborn as sns\n",
    "import matplotlib.pyplot as plt\n",
    "from sklearn.preprocessing import LabelEncoder\n",
    "from sklearn.model_selection import train_test_split\n",
    "from sklearn.linear_model import LinearRegression\n",
    "from sklearn.preprocessing import StandardScaler\n",
    "from sklearn.tree import DecisionTreeRegressor\n",
    "from sklearn.metrics import mean_squared_error, r2_score\n"
   ]
  },
  {
   "cell_type": "code",
   "execution_count": 2,
   "id": "f7e78063",
   "metadata": {
    "execution": {
     "iopub.execute_input": "2025-05-24T20:28:46.472426Z",
     "iopub.status.busy": "2025-05-24T20:28:46.471917Z",
     "iopub.status.idle": "2025-05-24T20:28:46.547723Z",
     "shell.execute_reply": "2025-05-24T20:28:46.546582Z"
    },
    "papermill": {
     "duration": 0.087056,
     "end_time": "2025-05-24T20:28:46.549357",
     "exception": false,
     "start_time": "2025-05-24T20:28:46.462301",
     "status": "completed"
    },
    "tags": []
   },
   "outputs": [
    {
     "data": {
      "text/html": [
       "<div>\n",
       "<style scoped>\n",
       "    .dataframe tbody tr th:only-of-type {\n",
       "        vertical-align: middle;\n",
       "    }\n",
       "\n",
       "    .dataframe tbody tr th {\n",
       "        vertical-align: top;\n",
       "    }\n",
       "\n",
       "    .dataframe thead th {\n",
       "        text-align: right;\n",
       "    }\n",
       "</style>\n",
       "<table border=\"1\" class=\"dataframe\">\n",
       "  <thead>\n",
       "    <tr style=\"text-align: right;\">\n",
       "      <th></th>\n",
       "      <th>Posted On</th>\n",
       "      <th>BHK</th>\n",
       "      <th>Rent</th>\n",
       "      <th>Size</th>\n",
       "      <th>Floor</th>\n",
       "      <th>Area Type</th>\n",
       "      <th>Area Locality</th>\n",
       "      <th>City</th>\n",
       "      <th>Furnishing Status</th>\n",
       "      <th>Tenant Preferred</th>\n",
       "      <th>Bathroom</th>\n",
       "      <th>Point of Contact</th>\n",
       "    </tr>\n",
       "  </thead>\n",
       "  <tbody>\n",
       "    <tr>\n",
       "      <th>0</th>\n",
       "      <td>2022-05-18</td>\n",
       "      <td>2</td>\n",
       "      <td>10000</td>\n",
       "      <td>1100</td>\n",
       "      <td>Ground out of 2</td>\n",
       "      <td>Super Area</td>\n",
       "      <td>Bandel</td>\n",
       "      <td>Kolkata</td>\n",
       "      <td>Unfurnished</td>\n",
       "      <td>Bachelors/Family</td>\n",
       "      <td>2</td>\n",
       "      <td>Contact Owner</td>\n",
       "    </tr>\n",
       "    <tr>\n",
       "      <th>1</th>\n",
       "      <td>2022-05-13</td>\n",
       "      <td>2</td>\n",
       "      <td>20000</td>\n",
       "      <td>800</td>\n",
       "      <td>1 out of 3</td>\n",
       "      <td>Super Area</td>\n",
       "      <td>Phool Bagan, Kankurgachi</td>\n",
       "      <td>Kolkata</td>\n",
       "      <td>Semi-Furnished</td>\n",
       "      <td>Bachelors/Family</td>\n",
       "      <td>1</td>\n",
       "      <td>Contact Owner</td>\n",
       "    </tr>\n",
       "    <tr>\n",
       "      <th>2</th>\n",
       "      <td>2022-05-16</td>\n",
       "      <td>2</td>\n",
       "      <td>17000</td>\n",
       "      <td>1000</td>\n",
       "      <td>1 out of 3</td>\n",
       "      <td>Super Area</td>\n",
       "      <td>Salt Lake City Sector 2</td>\n",
       "      <td>Kolkata</td>\n",
       "      <td>Semi-Furnished</td>\n",
       "      <td>Bachelors/Family</td>\n",
       "      <td>1</td>\n",
       "      <td>Contact Owner</td>\n",
       "    </tr>\n",
       "    <tr>\n",
       "      <th>3</th>\n",
       "      <td>2022-07-04</td>\n",
       "      <td>2</td>\n",
       "      <td>10000</td>\n",
       "      <td>800</td>\n",
       "      <td>1 out of 2</td>\n",
       "      <td>Super Area</td>\n",
       "      <td>Dumdum Park</td>\n",
       "      <td>Kolkata</td>\n",
       "      <td>Unfurnished</td>\n",
       "      <td>Bachelors/Family</td>\n",
       "      <td>1</td>\n",
       "      <td>Contact Owner</td>\n",
       "    </tr>\n",
       "    <tr>\n",
       "      <th>4</th>\n",
       "      <td>2022-05-09</td>\n",
       "      <td>2</td>\n",
       "      <td>7500</td>\n",
       "      <td>850</td>\n",
       "      <td>1 out of 2</td>\n",
       "      <td>Carpet Area</td>\n",
       "      <td>South Dum Dum</td>\n",
       "      <td>Kolkata</td>\n",
       "      <td>Unfurnished</td>\n",
       "      <td>Bachelors</td>\n",
       "      <td>1</td>\n",
       "      <td>Contact Owner</td>\n",
       "    </tr>\n",
       "    <tr>\n",
       "      <th>...</th>\n",
       "      <td>...</td>\n",
       "      <td>...</td>\n",
       "      <td>...</td>\n",
       "      <td>...</td>\n",
       "      <td>...</td>\n",
       "      <td>...</td>\n",
       "      <td>...</td>\n",
       "      <td>...</td>\n",
       "      <td>...</td>\n",
       "      <td>...</td>\n",
       "      <td>...</td>\n",
       "      <td>...</td>\n",
       "    </tr>\n",
       "    <tr>\n",
       "      <th>4741</th>\n",
       "      <td>2022-05-18</td>\n",
       "      <td>2</td>\n",
       "      <td>15000</td>\n",
       "      <td>1000</td>\n",
       "      <td>3 out of 5</td>\n",
       "      <td>Carpet Area</td>\n",
       "      <td>Bandam Kommu</td>\n",
       "      <td>Hyderabad</td>\n",
       "      <td>Semi-Furnished</td>\n",
       "      <td>Bachelors/Family</td>\n",
       "      <td>2</td>\n",
       "      <td>Contact Owner</td>\n",
       "    </tr>\n",
       "    <tr>\n",
       "      <th>4742</th>\n",
       "      <td>2022-05-15</td>\n",
       "      <td>3</td>\n",
       "      <td>29000</td>\n",
       "      <td>2000</td>\n",
       "      <td>1 out of 4</td>\n",
       "      <td>Super Area</td>\n",
       "      <td>Manikonda, Hyderabad</td>\n",
       "      <td>Hyderabad</td>\n",
       "      <td>Semi-Furnished</td>\n",
       "      <td>Bachelors/Family</td>\n",
       "      <td>3</td>\n",
       "      <td>Contact Owner</td>\n",
       "    </tr>\n",
       "    <tr>\n",
       "      <th>4743</th>\n",
       "      <td>2022-07-10</td>\n",
       "      <td>3</td>\n",
       "      <td>35000</td>\n",
       "      <td>1750</td>\n",
       "      <td>3 out of 5</td>\n",
       "      <td>Carpet Area</td>\n",
       "      <td>Himayath Nagar, NH 7</td>\n",
       "      <td>Hyderabad</td>\n",
       "      <td>Semi-Furnished</td>\n",
       "      <td>Bachelors/Family</td>\n",
       "      <td>3</td>\n",
       "      <td>Contact Agent</td>\n",
       "    </tr>\n",
       "    <tr>\n",
       "      <th>4744</th>\n",
       "      <td>2022-07-06</td>\n",
       "      <td>3</td>\n",
       "      <td>45000</td>\n",
       "      <td>1500</td>\n",
       "      <td>23 out of 34</td>\n",
       "      <td>Carpet Area</td>\n",
       "      <td>Gachibowli</td>\n",
       "      <td>Hyderabad</td>\n",
       "      <td>Semi-Furnished</td>\n",
       "      <td>Family</td>\n",
       "      <td>2</td>\n",
       "      <td>Contact Agent</td>\n",
       "    </tr>\n",
       "    <tr>\n",
       "      <th>4745</th>\n",
       "      <td>2022-05-04</td>\n",
       "      <td>2</td>\n",
       "      <td>15000</td>\n",
       "      <td>1000</td>\n",
       "      <td>4 out of 5</td>\n",
       "      <td>Carpet Area</td>\n",
       "      <td>Suchitra Circle</td>\n",
       "      <td>Hyderabad</td>\n",
       "      <td>Unfurnished</td>\n",
       "      <td>Bachelors</td>\n",
       "      <td>2</td>\n",
       "      <td>Contact Owner</td>\n",
       "    </tr>\n",
       "  </tbody>\n",
       "</table>\n",
       "<p>4746 rows × 12 columns</p>\n",
       "</div>"
      ],
      "text/plain": [
       "       Posted On  BHK   Rent  Size            Floor    Area Type  \\\n",
       "0     2022-05-18    2  10000  1100  Ground out of 2   Super Area   \n",
       "1     2022-05-13    2  20000   800       1 out of 3   Super Area   \n",
       "2     2022-05-16    2  17000  1000       1 out of 3   Super Area   \n",
       "3     2022-07-04    2  10000   800       1 out of 2   Super Area   \n",
       "4     2022-05-09    2   7500   850       1 out of 2  Carpet Area   \n",
       "...          ...  ...    ...   ...              ...          ...   \n",
       "4741  2022-05-18    2  15000  1000       3 out of 5  Carpet Area   \n",
       "4742  2022-05-15    3  29000  2000       1 out of 4   Super Area   \n",
       "4743  2022-07-10    3  35000  1750       3 out of 5  Carpet Area   \n",
       "4744  2022-07-06    3  45000  1500     23 out of 34  Carpet Area   \n",
       "4745  2022-05-04    2  15000  1000       4 out of 5  Carpet Area   \n",
       "\n",
       "                 Area Locality       City Furnishing Status  Tenant Preferred  \\\n",
       "0                       Bandel    Kolkata       Unfurnished  Bachelors/Family   \n",
       "1     Phool Bagan, Kankurgachi    Kolkata    Semi-Furnished  Bachelors/Family   \n",
       "2      Salt Lake City Sector 2    Kolkata    Semi-Furnished  Bachelors/Family   \n",
       "3                  Dumdum Park    Kolkata       Unfurnished  Bachelors/Family   \n",
       "4                South Dum Dum    Kolkata       Unfurnished         Bachelors   \n",
       "...                        ...        ...               ...               ...   \n",
       "4741              Bandam Kommu  Hyderabad    Semi-Furnished  Bachelors/Family   \n",
       "4742      Manikonda, Hyderabad  Hyderabad    Semi-Furnished  Bachelors/Family   \n",
       "4743      Himayath Nagar, NH 7  Hyderabad    Semi-Furnished  Bachelors/Family   \n",
       "4744                Gachibowli  Hyderabad    Semi-Furnished            Family   \n",
       "4745           Suchitra Circle  Hyderabad       Unfurnished         Bachelors   \n",
       "\n",
       "      Bathroom Point of Contact  \n",
       "0            2    Contact Owner  \n",
       "1            1    Contact Owner  \n",
       "2            1    Contact Owner  \n",
       "3            1    Contact Owner  \n",
       "4            1    Contact Owner  \n",
       "...        ...              ...  \n",
       "4741         2    Contact Owner  \n",
       "4742         3    Contact Owner  \n",
       "4743         3    Contact Agent  \n",
       "4744         2    Contact Agent  \n",
       "4745         2    Contact Owner  \n",
       "\n",
       "[4746 rows x 12 columns]"
      ]
     },
     "execution_count": 2,
     "metadata": {},
     "output_type": "execute_result"
    }
   ],
   "source": [
    "model_data=pd.read_csv(\"/kaggle/input/house-rent-prediction-dataset/House_Rent_Dataset.csv\")\n",
    "model_data"
   ]
  },
  {
   "cell_type": "markdown",
   "id": "87a5b334",
   "metadata": {
    "papermill": {
     "duration": 0.008614,
     "end_time": "2025-05-24T20:28:46.566927",
     "exception": false,
     "start_time": "2025-05-24T20:28:46.558313",
     "status": "completed"
    },
    "tags": []
   },
   "source": [
    "## Data cleaning and Exploration.\n",
    "\n",
    "On Exploration, it was noted that there are no duplicates neither are there any null values hence the data is clean to contine with the subsequent steps."
   ]
  },
  {
   "cell_type": "code",
   "execution_count": 3,
   "id": "a61ef265",
   "metadata": {
    "execution": {
     "iopub.execute_input": "2025-05-24T20:28:46.585296Z",
     "iopub.status.busy": "2025-05-24T20:28:46.584908Z",
     "iopub.status.idle": "2025-05-24T20:28:46.614101Z",
     "shell.execute_reply": "2025-05-24T20:28:46.613005Z"
    },
    "papermill": {
     "duration": 0.040173,
     "end_time": "2025-05-24T20:28:46.615923",
     "exception": false,
     "start_time": "2025-05-24T20:28:46.575750",
     "status": "completed"
    },
    "tags": []
   },
   "outputs": [
    {
     "name": "stdout",
     "output_type": "stream",
     "text": [
      "<class 'pandas.core.frame.DataFrame'>\n",
      "RangeIndex: 4746 entries, 0 to 4745\n",
      "Data columns (total 12 columns):\n",
      " #   Column             Non-Null Count  Dtype \n",
      "---  ------             --------------  ----- \n",
      " 0   Posted On          4746 non-null   object\n",
      " 1   BHK                4746 non-null   int64 \n",
      " 2   Rent               4746 non-null   int64 \n",
      " 3   Size               4746 non-null   int64 \n",
      " 4   Floor              4746 non-null   object\n",
      " 5   Area Type          4746 non-null   object\n",
      " 6   Area Locality      4746 non-null   object\n",
      " 7   City               4746 non-null   object\n",
      " 8   Furnishing Status  4746 non-null   object\n",
      " 9   Tenant Preferred   4746 non-null   object\n",
      " 10  Bathroom           4746 non-null   int64 \n",
      " 11  Point of Contact   4746 non-null   object\n",
      "dtypes: int64(4), object(8)\n",
      "memory usage: 445.1+ KB\n"
     ]
    }
   ],
   "source": [
    "model_data.info()"
   ]
  },
  {
   "cell_type": "code",
   "execution_count": 4,
   "id": "53cac68b",
   "metadata": {
    "execution": {
     "iopub.execute_input": "2025-05-24T20:28:46.634197Z",
     "iopub.status.busy": "2025-05-24T20:28:46.633859Z",
     "iopub.status.idle": "2025-05-24T20:28:46.640418Z",
     "shell.execute_reply": "2025-05-24T20:28:46.639286Z"
    },
    "papermill": {
     "duration": 0.017619,
     "end_time": "2025-05-24T20:28:46.642058",
     "exception": false,
     "start_time": "2025-05-24T20:28:46.624439",
     "status": "completed"
    },
    "tags": []
   },
   "outputs": [
    {
     "data": {
      "text/plain": [
       "(4746, 12)"
      ]
     },
     "execution_count": 4,
     "metadata": {},
     "output_type": "execute_result"
    }
   ],
   "source": [
    "model_data.shape"
   ]
  },
  {
   "cell_type": "code",
   "execution_count": 5,
   "id": "a3681b2d",
   "metadata": {
    "execution": {
     "iopub.execute_input": "2025-05-24T20:28:46.660306Z",
     "iopub.status.busy": "2025-05-24T20:28:46.659938Z",
     "iopub.status.idle": "2025-05-24T20:28:46.671141Z",
     "shell.execute_reply": "2025-05-24T20:28:46.670293Z"
    },
    "papermill": {
     "duration": 0.021972,
     "end_time": "2025-05-24T20:28:46.672686",
     "exception": false,
     "start_time": "2025-05-24T20:28:46.650714",
     "status": "completed"
    },
    "tags": []
   },
   "outputs": [
    {
     "data": {
      "text/plain": [
       "0"
      ]
     },
     "execution_count": 5,
     "metadata": {},
     "output_type": "execute_result"
    }
   ],
   "source": [
    "model_data.duplicated().sum()"
   ]
  },
  {
   "cell_type": "code",
   "execution_count": 6,
   "id": "cada6cea",
   "metadata": {
    "execution": {
     "iopub.execute_input": "2025-05-24T20:28:46.691309Z",
     "iopub.status.busy": "2025-05-24T20:28:46.690946Z",
     "iopub.status.idle": "2025-05-24T20:28:46.701121Z",
     "shell.execute_reply": "2025-05-24T20:28:46.700400Z"
    },
    "papermill": {
     "duration": 0.02147,
     "end_time": "2025-05-24T20:28:46.702840",
     "exception": false,
     "start_time": "2025-05-24T20:28:46.681370",
     "status": "completed"
    },
    "tags": []
   },
   "outputs": [
    {
     "data": {
      "text/plain": [
       "Posted On            0\n",
       "BHK                  0\n",
       "Rent                 0\n",
       "Size                 0\n",
       "Floor                0\n",
       "Area Type            0\n",
       "Area Locality        0\n",
       "City                 0\n",
       "Furnishing Status    0\n",
       "Tenant Preferred     0\n",
       "Bathroom             0\n",
       "Point of Contact     0\n",
       "dtype: int64"
      ]
     },
     "execution_count": 6,
     "metadata": {},
     "output_type": "execute_result"
    }
   ],
   "source": [
    "model_data.isnull().sum()"
   ]
  },
  {
   "cell_type": "markdown",
   "id": "008c4d49",
   "metadata": {
    "papermill": {
     "duration": 0.011783,
     "end_time": "2025-05-24T20:28:46.724856",
     "exception": false,
     "start_time": "2025-05-24T20:28:46.713073",
     "status": "completed"
    },
    "tags": []
   },
   "source": [
    "Going further, I explored if there is/not trends/relationship between the explanatory variables vs the target variable"
   ]
  },
  {
   "cell_type": "code",
   "execution_count": 7,
   "id": "9331e3d8",
   "metadata": {
    "execution": {
     "iopub.execute_input": "2025-05-24T20:28:46.747362Z",
     "iopub.status.busy": "2025-05-24T20:28:46.746938Z",
     "iopub.status.idle": "2025-05-24T20:28:47.101985Z",
     "shell.execute_reply": "2025-05-24T20:28:47.101018Z"
    },
    "papermill": {
     "duration": 0.368184,
     "end_time": "2025-05-24T20:28:47.103671",
     "exception": false,
     "start_time": "2025-05-24T20:28:46.735487",
     "status": "completed"
    },
    "tags": []
   },
   "outputs": [
    {
     "data": {
      "image/png": "[encoded data removed]",
      "text/plain": [
       "<Figure size 640x480 with 1 Axes>"
      ]
     },
     "metadata": {},
     "output_type": "display_data"
    }
   ],
   "source": [
    "sns.scatterplot(x=\"Size\",y=\"Rent\",data=model_data)\n",
    "plt.title(\"A scatter plot showing the relationship between house size and house rent\")\n",
    "plt.xlabel(\"Size of house\")\n",
    "plt.ylabel(\"Rent of the house\")\n",
    "plt.show()"
   ]
  },
  {
   "cell_type": "code",
   "execution_count": 8,
   "id": "2fcabe37",
   "metadata": {
    "execution": {
     "iopub.execute_input": "2025-05-24T20:28:47.124883Z",
     "iopub.status.busy": "2025-05-24T20:28:47.124522Z",
     "iopub.status.idle": "2025-05-24T20:28:47.346040Z",
     "shell.execute_reply": "2025-05-24T20:28:47.344854Z"
    },
    "papermill": {
     "duration": 0.23388,
     "end_time": "2025-05-24T20:28:47.347822",
     "exception": false,
     "start_time": "2025-05-24T20:28:47.113942",
     "status": "completed"
    },
    "tags": []
   },
   "outputs": [
    {
     "data": {
      "image/png": "[encoded data removed]",
      "text/plain": [
       "<Figure size 640x480 with 1 Axes>"
      ]
     },
     "metadata": {},
     "output_type": "display_data"
    }
   ],
   "source": [
    "sns.scatterplot(x=\"BHK\", y=\"Rent\",data=model_data)\n",
    "plt.title(\"A scatterplot for BHK and Rent\")\n",
    "plt.show()"
   ]
  },
  {
   "cell_type": "code",
   "execution_count": 9,
   "id": "493060bb",
   "metadata": {
    "execution": {
     "iopub.execute_input": "2025-05-24T20:28:47.369682Z",
     "iopub.status.busy": "2025-05-24T20:28:47.369376Z",
     "iopub.status.idle": "2025-05-24T20:28:47.574528Z",
     "shell.execute_reply": "2025-05-24T20:28:47.573411Z"
    },
    "papermill": {
     "duration": 0.217505,
     "end_time": "2025-05-24T20:28:47.576117",
     "exception": false,
     "start_time": "2025-05-24T20:28:47.358612",
     "status": "completed"
    },
    "tags": []
   },
   "outputs": [
    {
     "data": {
      "image/png": "[encoded data removed]",
      "text/plain": [
       "<Figure size 640x480 with 1 Axes>"
      ]
     },
     "metadata": {},
     "output_type": "display_data"
    }
   ],
   "source": [
    "sns.scatterplot(x=\"Bathroom\", y=\"Rent\",data=model_data)\n",
    "plt.title(\" A scatter showinng relationship between Number of bathroon and rent\")\n",
    "plt.show()"
   ]
  },
  {
   "cell_type": "markdown",
   "id": "06730be6",
   "metadata": {
    "papermill": {
     "duration": 0.009961,
     "end_time": "2025-05-24T20:28:47.596777",
     "exception": false,
     "start_time": "2025-05-24T20:28:47.586816",
     "status": "completed"
    },
    "tags": []
   },
   "source": [
    "I noticed there are extremely high values of target variable (Rent) however i decided not to remove it as there can be extremely high rents.\n",
    "\n",
    "On checking data types, most of the explanatory factors (columns) are categorical in nature this leads to next step **Feature Encoding**"
   ]
  },
  {
   "cell_type": "markdown",
   "id": "fee9c8ef",
   "metadata": {
    "papermill": {
     "duration": 0.010033,
     "end_time": "2025-05-24T20:28:47.616985",
     "exception": false,
     "start_time": "2025-05-24T20:28:47.606952",
     "status": "completed"
    },
    "tags": []
   },
   "source": [
    "### Feature Encoding\n",
    "\n",
    "The categorical features have to be converted to numerical features for efficient modeling.\n",
    "\n",
    "Further examination shows that the categorical features have pretty much labels, therefore using one hot encoding will likely lead to high dimensionality. Therefore, Scikit-learn’s label encoder was used to encode the features."
   ]
  },
  {
   "cell_type": "code",
   "execution_count": 10,
   "id": "875e84fa",
   "metadata": {
    "execution": {
     "iopub.execute_input": "2025-05-24T20:28:47.639004Z",
     "iopub.status.busy": "2025-05-24T20:28:47.638709Z",
     "iopub.status.idle": "2025-05-24T20:28:47.653674Z",
     "shell.execute_reply": "2025-05-24T20:28:47.652622Z"
    },
    "papermill": {
     "duration": 0.028174,
     "end_time": "2025-05-24T20:28:47.655352",
     "exception": false,
     "start_time": "2025-05-24T20:28:47.627178",
     "status": "completed"
    },
    "tags": []
   },
   "outputs": [
    {
     "data": {
      "text/html": [
       "<div>\n",
       "<style scoped>\n",
       "    .dataframe tbody tr th:only-of-type {\n",
       "        vertical-align: middle;\n",
       "    }\n",
       "\n",
       "    .dataframe tbody tr th {\n",
       "        vertical-align: top;\n",
       "    }\n",
       "\n",
       "    .dataframe thead th {\n",
       "        text-align: right;\n",
       "    }\n",
       "</style>\n",
       "<table border=\"1\" class=\"dataframe\">\n",
       "  <thead>\n",
       "    <tr style=\"text-align: right;\">\n",
       "      <th></th>\n",
       "      <th>Posted On</th>\n",
       "      <th>Floor</th>\n",
       "      <th>Area Type</th>\n",
       "      <th>Area Locality</th>\n",
       "      <th>City</th>\n",
       "      <th>Furnishing Status</th>\n",
       "      <th>Tenant Preferred</th>\n",
       "      <th>Point of Contact</th>\n",
       "    </tr>\n",
       "  </thead>\n",
       "  <tbody>\n",
       "    <tr>\n",
       "      <th>0</th>\n",
       "      <td>2022-05-18</td>\n",
       "      <td>Ground out of 2</td>\n",
       "      <td>Super Area</td>\n",
       "      <td>Bandel</td>\n",
       "      <td>Kolkata</td>\n",
       "      <td>Unfurnished</td>\n",
       "      <td>Bachelors/Family</td>\n",
       "      <td>Contact Owner</td>\n",
       "    </tr>\n",
       "    <tr>\n",
       "      <th>1</th>\n",
       "      <td>2022-05-13</td>\n",
       "      <td>1 out of 3</td>\n",
       "      <td>Super Area</td>\n",
       "      <td>Phool Bagan, Kankurgachi</td>\n",
       "      <td>Kolkata</td>\n",
       "      <td>Semi-Furnished</td>\n",
       "      <td>Bachelors/Family</td>\n",
       "      <td>Contact Owner</td>\n",
       "    </tr>\n",
       "    <tr>\n",
       "      <th>2</th>\n",
       "      <td>2022-05-16</td>\n",
       "      <td>1 out of 3</td>\n",
       "      <td>Super Area</td>\n",
       "      <td>Salt Lake City Sector 2</td>\n",
       "      <td>Kolkata</td>\n",
       "      <td>Semi-Furnished</td>\n",
       "      <td>Bachelors/Family</td>\n",
       "      <td>Contact Owner</td>\n",
       "    </tr>\n",
       "    <tr>\n",
       "      <th>3</th>\n",
       "      <td>2022-07-04</td>\n",
       "      <td>1 out of 2</td>\n",
       "      <td>Super Area</td>\n",
       "      <td>Dumdum Park</td>\n",
       "      <td>Kolkata</td>\n",
       "      <td>Unfurnished</td>\n",
       "      <td>Bachelors/Family</td>\n",
       "      <td>Contact Owner</td>\n",
       "    </tr>\n",
       "    <tr>\n",
       "      <th>4</th>\n",
       "      <td>2022-05-09</td>\n",
       "      <td>1 out of 2</td>\n",
       "      <td>Carpet Area</td>\n",
       "      <td>South Dum Dum</td>\n",
       "      <td>Kolkata</td>\n",
       "      <td>Unfurnished</td>\n",
       "      <td>Bachelors</td>\n",
       "      <td>Contact Owner</td>\n",
       "    </tr>\n",
       "  </tbody>\n",
       "</table>\n",
       "</div>"
      ],
      "text/plain": [
       "    Posted On            Floor    Area Type             Area Locality  \\\n",
       "0  2022-05-18  Ground out of 2   Super Area                    Bandel   \n",
       "1  2022-05-13       1 out of 3   Super Area  Phool Bagan, Kankurgachi   \n",
       "2  2022-05-16       1 out of 3   Super Area   Salt Lake City Sector 2   \n",
       "3  2022-07-04       1 out of 2   Super Area               Dumdum Park   \n",
       "4  2022-05-09       1 out of 2  Carpet Area             South Dum Dum   \n",
       "\n",
       "      City Furnishing Status  Tenant Preferred Point of Contact  \n",
       "0  Kolkata       Unfurnished  Bachelors/Family    Contact Owner  \n",
       "1  Kolkata    Semi-Furnished  Bachelors/Family    Contact Owner  \n",
       "2  Kolkata    Semi-Furnished  Bachelors/Family    Contact Owner  \n",
       "3  Kolkata       Unfurnished  Bachelors/Family    Contact Owner  \n",
       "4  Kolkata       Unfurnished         Bachelors    Contact Owner  "
      ]
     },
     "execution_count": 10,
     "metadata": {},
     "output_type": "execute_result"
    }
   ],
   "source": [
    "cat_columns = model_data.select_dtypes(include=['object', 'category']).columns\n",
    "categorical_subset = model_data[cat_columns]\n",
    "categorical_subset.head()"
   ]
  },
  {
   "cell_type": "code",
   "execution_count": 11,
   "id": "1a3ebd3b",
   "metadata": {
    "execution": {
     "iopub.execute_input": "2025-05-24T20:28:47.677846Z",
     "iopub.status.busy": "2025-05-24T20:28:47.677529Z",
     "iopub.status.idle": "2025-05-24T20:28:47.696666Z",
     "shell.execute_reply": "2025-05-24T20:28:47.695847Z"
    },
    "papermill": {
     "duration": 0.032186,
     "end_time": "2025-05-24T20:28:47.698297",
     "exception": false,
     "start_time": "2025-05-24T20:28:47.666111",
     "status": "completed"
    },
    "tags": []
   },
   "outputs": [],
   "source": [
    "lab=LabelEncoder()\n",
    "for x in categorical_subset:\n",
    "    model_data[x]=lab.fit_transform(model_data[x])\n",
    "    "
   ]
  },
  {
   "cell_type": "code",
   "execution_count": 12,
   "id": "e9febe20",
   "metadata": {
    "execution": {
     "iopub.execute_input": "2025-05-24T20:28:47.789009Z",
     "iopub.status.busy": "2025-05-24T20:28:47.788196Z",
     "iopub.status.idle": "2025-05-24T20:28:47.801041Z",
     "shell.execute_reply": "2025-05-24T20:28:47.800288Z"
    },
    "papermill": {
     "duration": 0.093523,
     "end_time": "2025-05-24T20:28:47.802474",
     "exception": false,
     "start_time": "2025-05-24T20:28:47.708951",
     "status": "completed"
    },
    "tags": []
   },
   "outputs": [
    {
     "data": {
      "text/html": [
       "<div>\n",
       "<style scoped>\n",
       "    .dataframe tbody tr th:only-of-type {\n",
       "        vertical-align: middle;\n",
       "    }\n",
       "\n",
       "    .dataframe tbody tr th {\n",
       "        vertical-align: top;\n",
       "    }\n",
       "\n",
       "    .dataframe thead th {\n",
       "        text-align: right;\n",
       "    }\n",
       "</style>\n",
       "<table border=\"1\" class=\"dataframe\">\n",
       "  <thead>\n",
       "    <tr style=\"text-align: right;\">\n",
       "      <th></th>\n",
       "      <th>Posted On</th>\n",
       "      <th>BHK</th>\n",
       "      <th>Rent</th>\n",
       "      <th>Size</th>\n",
       "      <th>Floor</th>\n",
       "      <th>Area Type</th>\n",
       "      <th>Area Locality</th>\n",
       "      <th>City</th>\n",
       "      <th>Furnishing Status</th>\n",
       "      <th>Tenant Preferred</th>\n",
       "      <th>Bathroom</th>\n",
       "      <th>Point of Contact</th>\n",
       "    </tr>\n",
       "  </thead>\n",
       "  <tbody>\n",
       "    <tr>\n",
       "      <th>0</th>\n",
       "      <td>26</td>\n",
       "      <td>2</td>\n",
       "      <td>10000</td>\n",
       "      <td>1100</td>\n",
       "      <td>455</td>\n",
       "      <td>2</td>\n",
       "      <td>221</td>\n",
       "      <td>4</td>\n",
       "      <td>2</td>\n",
       "      <td>1</td>\n",
       "      <td>2</td>\n",
       "      <td>2</td>\n",
       "    </tr>\n",
       "    <tr>\n",
       "      <th>1</th>\n",
       "      <td>21</td>\n",
       "      <td>2</td>\n",
       "      <td>20000</td>\n",
       "      <td>800</td>\n",
       "      <td>14</td>\n",
       "      <td>2</td>\n",
       "      <td>1527</td>\n",
       "      <td>4</td>\n",
       "      <td>1</td>\n",
       "      <td>1</td>\n",
       "      <td>1</td>\n",
       "      <td>2</td>\n",
       "    </tr>\n",
       "    <tr>\n",
       "      <th>2</th>\n",
       "      <td>24</td>\n",
       "      <td>2</td>\n",
       "      <td>17000</td>\n",
       "      <td>1000</td>\n",
       "      <td>14</td>\n",
       "      <td>2</td>\n",
       "      <td>1760</td>\n",
       "      <td>4</td>\n",
       "      <td>1</td>\n",
       "      <td>1</td>\n",
       "      <td>1</td>\n",
       "      <td>2</td>\n",
       "    </tr>\n",
       "    <tr>\n",
       "      <th>3</th>\n",
       "      <td>73</td>\n",
       "      <td>2</td>\n",
       "      <td>10000</td>\n",
       "      <td>800</td>\n",
       "      <td>10</td>\n",
       "      <td>2</td>\n",
       "      <td>526</td>\n",
       "      <td>4</td>\n",
       "      <td>2</td>\n",
       "      <td>1</td>\n",
       "      <td>1</td>\n",
       "      <td>2</td>\n",
       "    </tr>\n",
       "    <tr>\n",
       "      <th>4</th>\n",
       "      <td>17</td>\n",
       "      <td>2</td>\n",
       "      <td>7500</td>\n",
       "      <td>850</td>\n",
       "      <td>10</td>\n",
       "      <td>1</td>\n",
       "      <td>1890</td>\n",
       "      <td>4</td>\n",
       "      <td>2</td>\n",
       "      <td>0</td>\n",
       "      <td>1</td>\n",
       "      <td>2</td>\n",
       "    </tr>\n",
       "    <tr>\n",
       "      <th>...</th>\n",
       "      <td>...</td>\n",
       "      <td>...</td>\n",
       "      <td>...</td>\n",
       "      <td>...</td>\n",
       "      <td>...</td>\n",
       "      <td>...</td>\n",
       "      <td>...</td>\n",
       "      <td>...</td>\n",
       "      <td>...</td>\n",
       "      <td>...</td>\n",
       "      <td>...</td>\n",
       "      <td>...</td>\n",
       "    </tr>\n",
       "    <tr>\n",
       "      <th>4741</th>\n",
       "      <td>26</td>\n",
       "      <td>2</td>\n",
       "      <td>15000</td>\n",
       "      <td>1000</td>\n",
       "      <td>271</td>\n",
       "      <td>1</td>\n",
       "      <td>219</td>\n",
       "      <td>3</td>\n",
       "      <td>1</td>\n",
       "      <td>1</td>\n",
       "      <td>2</td>\n",
       "      <td>2</td>\n",
       "    </tr>\n",
       "    <tr>\n",
       "      <th>4742</th>\n",
       "      <td>23</td>\n",
       "      <td>3</td>\n",
       "      <td>29000</td>\n",
       "      <td>2000</td>\n",
       "      <td>16</td>\n",
       "      <td>2</td>\n",
       "      <td>1214</td>\n",
       "      <td>3</td>\n",
       "      <td>1</td>\n",
       "      <td>1</td>\n",
       "      <td>3</td>\n",
       "      <td>2</td>\n",
       "    </tr>\n",
       "    <tr>\n",
       "      <th>4743</th>\n",
       "      <td>79</td>\n",
       "      <td>3</td>\n",
       "      <td>35000</td>\n",
       "      <td>1750</td>\n",
       "      <td>271</td>\n",
       "      <td>1</td>\n",
       "      <td>724</td>\n",
       "      <td>3</td>\n",
       "      <td>1</td>\n",
       "      <td>1</td>\n",
       "      <td>3</td>\n",
       "      <td>0</td>\n",
       "    </tr>\n",
       "    <tr>\n",
       "      <th>4744</th>\n",
       "      <td>75</td>\n",
       "      <td>3</td>\n",
       "      <td>45000</td>\n",
       "      <td>1500</td>\n",
       "      <td>226</td>\n",
       "      <td>1</td>\n",
       "      <td>590</td>\n",
       "      <td>3</td>\n",
       "      <td>1</td>\n",
       "      <td>2</td>\n",
       "      <td>2</td>\n",
       "      <td>0</td>\n",
       "    </tr>\n",
       "    <tr>\n",
       "      <th>4745</th>\n",
       "      <td>12</td>\n",
       "      <td>2</td>\n",
       "      <td>15000</td>\n",
       "      <td>1000</td>\n",
       "      <td>313</td>\n",
       "      <td>1</td>\n",
       "      <td>1915</td>\n",
       "      <td>3</td>\n",
       "      <td>2</td>\n",
       "      <td>0</td>\n",
       "      <td>2</td>\n",
       "      <td>2</td>\n",
       "    </tr>\n",
       "  </tbody>\n",
       "</table>\n",
       "<p>4746 rows × 12 columns</p>\n",
       "</div>"
      ],
      "text/plain": [
       "      Posted On  BHK   Rent  Size  Floor  Area Type  Area Locality  City  \\\n",
       "0            26    2  10000  1100    455          2            221     4   \n",
       "1            21    2  20000   800     14          2           1527     4   \n",
       "2            24    2  17000  1000     14          2           1760     4   \n",
       "3            73    2  10000   800     10          2            526     4   \n",
       "4            17    2   7500   850     10          1           1890     4   \n",
       "...         ...  ...    ...   ...    ...        ...            ...   ...   \n",
       "4741         26    2  15000  1000    271          1            219     3   \n",
       "4742         23    3  29000  2000     16          2           1214     3   \n",
       "4743         79    3  35000  1750    271          1            724     3   \n",
       "4744         75    3  45000  1500    226          1            590     3   \n",
       "4745         12    2  15000  1000    313          1           1915     3   \n",
       "\n",
       "      Furnishing Status  Tenant Preferred  Bathroom  Point of Contact  \n",
       "0                     2                 1         2                 2  \n",
       "1                     1                 1         1                 2  \n",
       "2                     1                 1         1                 2  \n",
       "3                     2                 1         1                 2  \n",
       "4                     2                 0         1                 2  \n",
       "...                 ...               ...       ...               ...  \n",
       "4741                  1                 1         2                 2  \n",
       "4742                  1                 1         3                 2  \n",
       "4743                  1                 1         3                 0  \n",
       "4744                  1                 2         2                 0  \n",
       "4745                  2                 0         2                 2  \n",
       "\n",
       "[4746 rows x 12 columns]"
      ]
     },
     "execution_count": 12,
     "metadata": {},
     "output_type": "execute_result"
    }
   ],
   "source": [
    "model_data"
   ]
  },
  {
   "cell_type": "markdown",
   "id": "f1570bb5",
   "metadata": {
    "papermill": {
     "duration": 0.012943,
     "end_time": "2025-05-24T20:28:47.826446",
     "exception": false,
     "start_time": "2025-05-24T20:28:47.813503",
     "status": "completed"
    },
    "tags": []
   },
   "source": [
    "After feature encoding i used a heatmap too visualize correlation of the features."
   ]
  },
  {
   "cell_type": "code",
   "execution_count": 13,
   "id": "2f49817a",
   "metadata": {
    "execution": {
     "iopub.execute_input": "2025-05-24T20:28:47.850278Z",
     "iopub.status.busy": "2025-05-24T20:28:47.849921Z",
     "iopub.status.idle": "2025-05-24T20:28:48.479879Z",
     "shell.execute_reply": "2025-05-24T20:28:48.478917Z"
    },
    "papermill": {
     "duration": 0.645864,
     "end_time": "2025-05-24T20:28:48.483661",
     "exception": false,
     "start_time": "2025-05-24T20:28:47.837797",
     "status": "completed"
    },
    "tags": []
   },
   "outputs": [
    {
     "data": {
      "image/png": "[encoded data removed]",
      "text/plain": [
       "<Figure size 2000x800 with 2 Axes>"
      ]
     },
     "metadata": {},
     "output_type": "display_data"
    }
   ],
   "source": [
    "plt.figure(figsize=(20,8))\n",
    "sns.heatmap(model_data.corr(), annot=True)\n",
    "plt.title(\"Heatmap showing correlation between features.\")\n",
    "plt.show()"
   ]
  },
  {
   "cell_type": "markdown",
   "id": "a3681503",
   "metadata": {
    "papermill": {
     "duration": 0.015161,
     "end_time": "2025-05-24T20:28:48.515267",
     "exception": false,
     "start_time": "2025-05-24T20:28:48.500106",
     "status": "completed"
    },
    "tags": []
   },
   "source": [
    "### Train-test split validation\n",
    "\n",
    "The dataset is split into explanatory variables — X and target variable — y. \n",
    "\n",
    "Then, further, split into train and test data in ratio 80:20 respectively.\n",
    "\n",
    "Splitting the data helps to assess the model’s performance on unseen data after being trained on the training data. Scikit-learn’s train-test split is used to accomplish this task."
   ]
  },
  {
   "cell_type": "code",
   "execution_count": 14,
   "id": "33a3cac3",
   "metadata": {
    "execution": {
     "iopub.execute_input": "2025-05-24T20:28:48.546874Z",
     "iopub.status.busy": "2025-05-24T20:28:48.546552Z",
     "iopub.status.idle": "2025-05-24T20:28:48.554028Z",
     "shell.execute_reply": "2025-05-24T20:28:48.552770Z"
    },
    "papermill": {
     "duration": 0.025289,
     "end_time": "2025-05-24T20:28:48.555741",
     "exception": false,
     "start_time": "2025-05-24T20:28:48.530452",
     "status": "completed"
    },
    "tags": []
   },
   "outputs": [],
   "source": [
    "x=model_data.drop([\"Posted On\",\"Rent\"],axis=1).values"
   ]
  },
  {
   "cell_type": "code",
   "execution_count": 15,
   "id": "1808e9ed",
   "metadata": {
    "execution": {
     "iopub.execute_input": "2025-05-24T20:28:48.587104Z",
     "iopub.status.busy": "2025-05-24T20:28:48.586808Z",
     "iopub.status.idle": "2025-05-24T20:28:48.591924Z",
     "shell.execute_reply": "2025-05-24T20:28:48.590619Z"
    },
    "papermill": {
     "duration": 0.02331,
     "end_time": "2025-05-24T20:28:48.593748",
     "exception": false,
     "start_time": "2025-05-24T20:28:48.570438",
     "status": "completed"
    },
    "tags": []
   },
   "outputs": [],
   "source": [
    "y=model_data[\"Rent\"].values"
   ]
  },
  {
   "cell_type": "code",
   "execution_count": 16,
   "id": "b395a063",
   "metadata": {
    "execution": {
     "iopub.execute_input": "2025-05-24T20:28:48.624814Z",
     "iopub.status.busy": "2025-05-24T20:28:48.624523Z",
     "iopub.status.idle": "2025-05-24T20:28:48.630964Z",
     "shell.execute_reply": "2025-05-24T20:28:48.629991Z"
    },
    "papermill": {
     "duration": 0.024244,
     "end_time": "2025-05-24T20:28:48.632591",
     "exception": false,
     "start_time": "2025-05-24T20:28:48.608347",
     "status": "completed"
    },
    "tags": []
   },
   "outputs": [
    {
     "data": {
      "text/plain": [
       "(4746, 10)"
      ]
     },
     "execution_count": 16,
     "metadata": {},
     "output_type": "execute_result"
    }
   ],
   "source": [
    "x.shape"
   ]
  },
  {
   "cell_type": "code",
   "execution_count": 17,
   "id": "26878b37",
   "metadata": {
    "execution": {
     "iopub.execute_input": "2025-05-24T20:28:48.663122Z",
     "iopub.status.busy": "2025-05-24T20:28:48.662722Z",
     "iopub.status.idle": "2025-05-24T20:28:48.669092Z",
     "shell.execute_reply": "2025-05-24T20:28:48.668037Z"
    },
    "papermill": {
     "duration": 0.023837,
     "end_time": "2025-05-24T20:28:48.670679",
     "exception": false,
     "start_time": "2025-05-24T20:28:48.646842",
     "status": "completed"
    },
    "tags": []
   },
   "outputs": [
    {
     "data": {
      "text/plain": [
       "(4746,)"
      ]
     },
     "execution_count": 17,
     "metadata": {},
     "output_type": "execute_result"
    }
   ],
   "source": [
    "y.shape"
   ]
  },
  {
   "cell_type": "code",
   "execution_count": 18,
   "id": "130a296d",
   "metadata": {
    "execution": {
     "iopub.execute_input": "2025-05-24T20:28:48.700951Z",
     "iopub.status.busy": "2025-05-24T20:28:48.700627Z",
     "iopub.status.idle": "2025-05-24T20:28:48.707795Z",
     "shell.execute_reply": "2025-05-24T20:28:48.706750Z"
    },
    "papermill": {
     "duration": 0.024634,
     "end_time": "2025-05-24T20:28:48.709599",
     "exception": false,
     "start_time": "2025-05-24T20:28:48.684965",
     "status": "completed"
    },
    "tags": []
   },
   "outputs": [],
   "source": [
    "x_train,x_test,y_train,y_test = train_test_split(x,y,test_size = 0.2, random_state=42)"
   ]
  },
  {
   "cell_type": "markdown",
   "id": "ac018bdc",
   "metadata": {
    "papermill": {
     "duration": 0.01499,
     "end_time": "2025-05-24T20:28:48.739115",
     "exception": false,
     "start_time": "2025-05-24T20:28:48.724125",
     "status": "completed"
    },
    "tags": []
   },
   "source": [
    "### Feature Scaling\n",
    "\n",
    "Before going into modeling proper, the data needs to be scaled to handle skewed features. \n",
    "\n",
    "Scikit-learn’s standard scaler ensures that for each feature the mean is 0 and the variance is 1, bringing all the features to the same magnitude. \n",
    "\n",
    "Doing this will significantly affect the model’s performance."
   ]
  },
  {
   "cell_type": "code",
   "execution_count": 19,
   "id": "80825724",
   "metadata": {
    "execution": {
     "iopub.execute_input": "2025-05-24T20:28:48.772622Z",
     "iopub.status.busy": "2025-05-24T20:28:48.772047Z",
     "iopub.status.idle": "2025-05-24T20:28:48.798444Z",
     "shell.execute_reply": "2025-05-24T20:28:48.797432Z"
    },
    "papermill": {
     "duration": 0.04493,
     "end_time": "2025-05-24T20:28:48.800297",
     "exception": false,
     "start_time": "2025-05-24T20:28:48.755367",
     "status": "completed"
    },
    "tags": []
   },
   "outputs": [],
   "source": [
    "scaler = StandardScaler()\n",
    "Scaled_xtrain=scaler.fit_transform(x_train)\n",
    "Scaled_xtest = scaler.transform(x_test)"
   ]
  },
  {
   "cell_type": "markdown",
   "id": "ade1b984",
   "metadata": {
    "papermill": {
     "duration": 0.015801,
     "end_time": "2025-05-24T20:28:48.831598",
     "exception": false,
     "start_time": "2025-05-24T20:28:48.815797",
     "status": "completed"
    },
    "tags": []
   },
   "source": [
    "# Modelling\n",
    "\n",
    "\n",
    "## 1. Linear Regression.\n",
    "\n",
    "House rent prediction is a regression problem, therefore about five regression models were trained and the best was chosen.\n",
    "\n",
    "Before training Evaluation metrics were defined and stored- R2 score and root mean squared error."
   ]
  },
  {
   "cell_type": "code",
   "execution_count": 20,
   "id": "1bc1214d",
   "metadata": {
    "execution": {
     "iopub.execute_input": "2025-05-24T20:28:48.862869Z",
     "iopub.status.busy": "2025-05-24T20:28:48.862135Z",
     "iopub.status.idle": "2025-05-24T20:28:48.866522Z",
     "shell.execute_reply": "2025-05-24T20:28:48.865482Z"
    },
    "papermill": {
     "duration": 0.021186,
     "end_time": "2025-05-24T20:28:48.868055",
     "exception": false,
     "start_time": "2025-05-24T20:28:48.846869",
     "status": "completed"
    },
    "tags": []
   },
   "outputs": [],
   "source": [
    "def RootRSE(ytest,ypred):\n",
    "    result = np.sqrt(mean_squared_error(ytest,ypred))\n",
    "    return result"
   ]
  },
  {
   "cell_type": "code",
   "execution_count": 21,
   "id": "1f388856",
   "metadata": {
    "execution": {
     "iopub.execute_input": "2025-05-24T20:28:48.901565Z",
     "iopub.status.busy": "2025-05-24T20:28:48.901209Z",
     "iopub.status.idle": "2025-05-24T20:28:48.906379Z",
     "shell.execute_reply": "2025-05-24T20:28:48.905303Z"
    },
    "papermill": {
     "duration": 0.02341,
     "end_time": "2025-05-24T20:28:48.907926",
     "exception": false,
     "start_time": "2025-05-24T20:28:48.884516",
     "status": "completed"
    },
    "tags": []
   },
   "outputs": [],
   "source": [
    " def R2Score(model):\n",
    "     score = model.score(Scaled_xtest, y_test)\n",
    "     return score"
   ]
  },
  {
   "cell_type": "code",
   "execution_count": 22,
   "id": "4d797c4f",
   "metadata": {
    "execution": {
     "iopub.execute_input": "2025-05-24T20:28:48.938608Z",
     "iopub.status.busy": "2025-05-24T20:28:48.938315Z",
     "iopub.status.idle": "2025-05-24T20:28:48.981873Z",
     "shell.execute_reply": "2025-05-24T20:28:48.981094Z"
    },
    "papermill": {
     "duration": 0.060741,
     "end_time": "2025-05-24T20:28:48.983532",
     "exception": false,
     "start_time": "2025-05-24T20:28:48.922791",
     "status": "completed"
    },
    "tags": []
   },
   "outputs": [
    {
     "data": {
      "text/html": [
       "<style>#sk-container-id-1 {color: black;background-color: white;}#sk-container-id-1 pre{padding: 0;}#sk-container-id-1 div.sk-toggleable {background-color: white;}#sk-container-id-1 label.sk-toggleable__label {cursor: pointer;display: block;width: 100%;margin-bottom: 0;padding: 0.3em;box-sizing: border-box;text-align: center;}#sk-container-id-1 label.sk-toggleable__label-arrow:before {content: \"▸\";float: left;margin-right: 0.25em;color: #696969;}#sk-container-id-1 label.sk-toggleable__label-arrow:hover:before {color: black;}#sk-container-id-1 div.sk-estimator:hover label.sk-toggleable__label-arrow:before {color: black;}#sk-container-id-1 div.sk-toggleable__content {max-height: 0;max-width: 0;overflow: hidden;text-align: left;background-color: #f0f8ff;}#sk-container-id-1 div.sk-toggleable__content pre {margin: 0.2em;color: black;border-radius: 0.25em;background-color: #f0f8ff;}#sk-container-id-1 input.sk-toggleable__control:checked~div.sk-toggleable__content {max-height: 200px;max-width: 100%;overflow: auto;}#sk-container-id-1 input.sk-toggleable__control:checked~label.sk-toggleable__label-arrow:before {content: \"▾\";}#sk-container-id-1 div.sk-estimator input.sk-toggleable__control:checked~label.sk-toggleable__label {background-color: #d4ebff;}#sk-container-id-1 div.sk-label input.sk-toggleable__control:checked~label.sk-toggleable__label {background-color: #d4ebff;}#sk-container-id-1 input.sk-hidden--visually {border: 0;clip: rect(1px 1px 1px 1px);clip: rect(1px, 1px, 1px, 1px);height: 1px;margin: -1px;overflow: hidden;padding: 0;position: absolute;width: 1px;}#sk-container-id-1 div.sk-estimator {font-family: monospace;background-color: #f0f8ff;border: 1px dotted black;border-radius: 0.25em;box-sizing: border-box;margin-bottom: 0.5em;}#sk-container-id-1 div.sk-estimator:hover {background-color: #d4ebff;}#sk-container-id-1 div.sk-parallel-item::after {content: \"\";width: 100%;border-bottom: 1px solid gray;flex-grow: 1;}#sk-container-id-1 div.sk-label:hover label.sk-toggleable__label {background-color: #d4ebff;}#sk-container-id-1 div.sk-serial::before {content: \"\";position: absolute;border-left: 1px solid gray;box-sizing: border-box;top: 0;bottom: 0;left: 50%;z-index: 0;}#sk-container-id-1 div.sk-serial {display: flex;flex-direction: column;align-items: center;background-color: white;padding-right: 0.2em;padding-left: 0.2em;position: relative;}#sk-container-id-1 div.sk-item {position: relative;z-index: 1;}#sk-container-id-1 div.sk-parallel {display: flex;align-items: stretch;justify-content: center;background-color: white;position: relative;}#sk-container-id-1 div.sk-item::before, #sk-container-id-1 div.sk-parallel-item::before {content: \"\";position: absolute;border-left: 1px solid gray;box-sizing: border-box;top: 0;bottom: 0;left: 50%;z-index: -1;}#sk-container-id-1 div.sk-parallel-item {display: flex;flex-direction: column;z-index: 1;position: relative;background-color: white;}#sk-container-id-1 div.sk-parallel-item:first-child::after {align-self: flex-end;width: 50%;}#sk-container-id-1 div.sk-parallel-item:last-child::after {align-self: flex-start;width: 50%;}#sk-container-id-1 div.sk-parallel-item:only-child::after {width: 0;}#sk-container-id-1 div.sk-dashed-wrapped {border: 1px dashed gray;margin: 0 0.4em 0.5em 0.4em;box-sizing: border-box;padding-bottom: 0.4em;background-color: white;}#sk-container-id-1 div.sk-label label {font-family: monospace;font-weight: bold;display: inline-block;line-height: 1.2em;}#sk-container-id-1 div.sk-label-container {text-align: center;}#sk-container-id-1 div.sk-container {/* jupyter's `normalize.less` sets `[hidden] { display: none; }` but bootstrap.min.css set `[hidden] { display: none !important; }` so we also need the `!important` here to be able to override the default hidden behavior on the sphinx rendered scikit-learn.org. See: https://github.com/scikit-learn/scikit-learn/issues/21755 */display: inline-block !important;position: relative;}#sk-container-id-1 div.sk-text-repr-fallback {display: none;}</style><div id=\"sk-container-id-1\" class=\"sk-top-container\"><div class=\"sk-text-repr-fallback\"><pre>LinearRegression()</pre><b>In a Jupyter environment, please rerun this cell to show the HTML representation or trust the notebook. <br />On GitHub, the HTML representation is unable to render, please try loading this page with nbviewer.org.</b></div><div class=\"sk-container\" hidden><div class=\"sk-item\"><div class=\"sk-estimator sk-toggleable\"><input class=\"sk-toggleable__control sk-hidden--visually\" id=\"sk-estimator-id-1\" type=\"checkbox\" checked><label for=\"sk-estimator-id-1\" class=\"sk-toggleable__label sk-toggleable__label-arrow\">LinearRegression</label><div class=\"sk-toggleable__content\"><pre>LinearRegression()</pre></div></div></div></div></div>"
      ],
      "text/plain": [
       "LinearRegression()"
      ]
     },
     "execution_count": 22,
     "metadata": {},
     "output_type": "execute_result"
    }
   ],
   "source": [
    "LinearModel = LinearRegression()\n",
    "LinearModel.fit(Scaled_xtrain,y_train)"
   ]
  },
  {
   "cell_type": "code",
   "execution_count": 23,
   "id": "aa8b55b4",
   "metadata": {
    "execution": {
     "iopub.execute_input": "2025-05-24T20:28:49.035440Z",
     "iopub.status.busy": "2025-05-24T20:28:49.034288Z",
     "iopub.status.idle": "2025-05-24T20:28:49.041367Z",
     "shell.execute_reply": "2025-05-24T20:28:49.040414Z"
    },
    "papermill": {
     "duration": 0.035106,
     "end_time": "2025-05-24T20:28:49.043283",
     "exception": false,
     "start_time": "2025-05-24T20:28:49.008177",
     "status": "completed"
    },
    "tags": []
   },
   "outputs": [],
   "source": [
    "Rent_LinearModel = LinearModel.predict(Scaled_xtest)"
   ]
  },
  {
   "cell_type": "code",
   "execution_count": 24,
   "id": "fe0f5109",
   "metadata": {
    "execution": {
     "iopub.execute_input": "2025-05-24T20:28:49.093134Z",
     "iopub.status.busy": "2025-05-24T20:28:49.092780Z",
     "iopub.status.idle": "2025-05-24T20:28:49.099661Z",
     "shell.execute_reply": "2025-05-24T20:28:49.098680Z"
    },
    "papermill": {
     "duration": 0.032375,
     "end_time": "2025-05-24T20:28:49.101420",
     "exception": false,
     "start_time": "2025-05-24T20:28:49.069045",
     "status": "completed"
    },
    "tags": []
   },
   "outputs": [
    {
     "name": "stdout",
     "output_type": "stream",
     "text": [
      "The R squared value of model is 0.4593449152469078\n"
     ]
    }
   ],
   "source": [
    "R_Squared = R2Score(LinearModel)\n",
    "print(\"The R squared value of model is \" + str(R_Squared)  )"
   ]
  },
  {
   "cell_type": "code",
   "execution_count": 25,
   "id": "79960677",
   "metadata": {
    "execution": {
     "iopub.execute_input": "2025-05-24T20:28:49.134192Z",
     "iopub.status.busy": "2025-05-24T20:28:49.133858Z",
     "iopub.status.idle": "2025-05-24T20:28:49.141009Z",
     "shell.execute_reply": "2025-05-24T20:28:49.139621Z"
    },
    "papermill": {
     "duration": 0.025607,
     "end_time": "2025-05-24T20:28:49.142866",
     "exception": false,
     "start_time": "2025-05-24T20:28:49.117259",
     "status": "completed"
    },
    "tags": []
   },
   "outputs": [
    {
     "name": "stdout",
     "output_type": "stream",
     "text": [
      "The RMSE value is 46418.92581490508\n"
     ]
    }
   ],
   "source": [
    "RMSE = RootRSE(y_test, Rent_LinearModel)\n",
    "print(\"The RMSE value is \"+ str(RMSE))\n"
   ]
  },
  {
   "cell_type": "markdown",
   "id": "8196f0d4",
   "metadata": {
    "papermill": {
     "duration": 0.014341,
     "end_time": "2025-05-24T20:28:49.171933",
     "exception": false,
     "start_time": "2025-05-24T20:28:49.157592",
     "status": "completed"
    },
    "tags": []
   },
   "source": [
    "## 2. Decision Tree Model."
   ]
  },
  {
   "cell_type": "code",
   "execution_count": 26,
   "id": "7db227dc",
   "metadata": {
    "execution": {
     "iopub.execute_input": "2025-05-24T20:28:49.202645Z",
     "iopub.status.busy": "2025-05-24T20:28:49.202324Z",
     "iopub.status.idle": "2025-05-24T20:28:49.222189Z",
     "shell.execute_reply": "2025-05-24T20:28:49.221224Z"
    },
    "papermill": {
     "duration": 0.037039,
     "end_time": "2025-05-24T20:28:49.223845",
     "exception": false,
     "start_time": "2025-05-24T20:28:49.186806",
     "status": "completed"
    },
    "tags": []
   },
   "outputs": [
    {
     "data": {
      "text/html": [
       "<style>#sk-container-id-2 {color: black;background-color: white;}#sk-container-id-2 pre{padding: 0;}#sk-container-id-2 div.sk-toggleable {background-color: white;}#sk-container-id-2 label.sk-toggleable__label {cursor: pointer;display: block;width: 100%;margin-bottom: 0;padding: 0.3em;box-sizing: border-box;text-align: center;}#sk-container-id-2 label.sk-toggleable__label-arrow:before {content: \"▸\";float: left;margin-right: 0.25em;color: #696969;}#sk-container-id-2 label.sk-toggleable__label-arrow:hover:before {color: black;}#sk-container-id-2 div.sk-estimator:hover label.sk-toggleable__label-arrow:before {color: black;}#sk-container-id-2 div.sk-toggleable__content {max-height: 0;max-width: 0;overflow: hidden;text-align: left;background-color: #f0f8ff;}#sk-container-id-2 div.sk-toggleable__content pre {margin: 0.2em;color: black;border-radius: 0.25em;background-color: #f0f8ff;}#sk-container-id-2 input.sk-toggleable__control:checked~div.sk-toggleable__content {max-height: 200px;max-width: 100%;overflow: auto;}#sk-container-id-2 input.sk-toggleable__control:checked~label.sk-toggleable__label-arrow:before {content: \"▾\";}#sk-container-id-2 div.sk-estimator input.sk-toggleable__control:checked~label.sk-toggleable__label {background-color: #d4ebff;}#sk-container-id-2 div.sk-label input.sk-toggleable__control:checked~label.sk-toggleable__label {background-color: #d4ebff;}#sk-container-id-2 input.sk-hidden--visually {border: 0;clip: rect(1px 1px 1px 1px);clip: rect(1px, 1px, 1px, 1px);height: 1px;margin: -1px;overflow: hidden;padding: 0;position: absolute;width: 1px;}#sk-container-id-2 div.sk-estimator {font-family: monospace;background-color: #f0f8ff;border: 1px dotted black;border-radius: 0.25em;box-sizing: border-box;margin-bottom: 0.5em;}#sk-container-id-2 div.sk-estimator:hover {background-color: #d4ebff;}#sk-container-id-2 div.sk-parallel-item::after {content: \"\";width: 100%;border-bottom: 1px solid gray;flex-grow: 1;}#sk-container-id-2 div.sk-label:hover label.sk-toggleable__label {background-color: #d4ebff;}#sk-container-id-2 div.sk-serial::before {content: \"\";position: absolute;border-left: 1px solid gray;box-sizing: border-box;top: 0;bottom: 0;left: 50%;z-index: 0;}#sk-container-id-2 div.sk-serial {display: flex;flex-direction: column;align-items: center;background-color: white;padding-right: 0.2em;padding-left: 0.2em;position: relative;}#sk-container-id-2 div.sk-item {position: relative;z-index: 1;}#sk-container-id-2 div.sk-parallel {display: flex;align-items: stretch;justify-content: center;background-color: white;position: relative;}#sk-container-id-2 div.sk-item::before, #sk-container-id-2 div.sk-parallel-item::before {content: \"\";position: absolute;border-left: 1px solid gray;box-sizing: border-box;top: 0;bottom: 0;left: 50%;z-index: -1;}#sk-container-id-2 div.sk-parallel-item {display: flex;flex-direction: column;z-index: 1;position: relative;background-color: white;}#sk-container-id-2 div.sk-parallel-item:first-child::after {align-self: flex-end;width: 50%;}#sk-container-id-2 div.sk-parallel-item:last-child::after {align-self: flex-start;width: 50%;}#sk-container-id-2 div.sk-parallel-item:only-child::after {width: 0;}#sk-container-id-2 div.sk-dashed-wrapped {border: 1px dashed gray;margin: 0 0.4em 0.5em 0.4em;box-sizing: border-box;padding-bottom: 0.4em;background-color: white;}#sk-container-id-2 div.sk-label label {font-family: monospace;font-weight: bold;display: inline-block;line-height: 1.2em;}#sk-container-id-2 div.sk-label-container {text-align: center;}#sk-container-id-2 div.sk-container {/* jupyter's `normalize.less` sets `[hidden] { display: none; }` but bootstrap.min.css set `[hidden] { display: none !important; }` so we also need the `!important` here to be able to override the default hidden behavior on the sphinx rendered scikit-learn.org. See: https://github.com/scikit-learn/scikit-learn/issues/21755 */display: inline-block !important;position: relative;}#sk-container-id-2 div.sk-text-repr-fallback {display: none;}</style><div id=\"sk-container-id-2\" class=\"sk-top-container\"><div class=\"sk-text-repr-fallback\"><pre>DecisionTreeRegressor(max_depth=10, min_samples_split=30)</pre><b>In a Jupyter environment, please rerun this cell to show the HTML representation or trust the notebook. <br />On GitHub, the HTML representation is unable to render, please try loading this page with nbviewer.org.</b></div><div class=\"sk-container\" hidden><div class=\"sk-item\"><div class=\"sk-estimator sk-toggleable\"><input class=\"sk-toggleable__control sk-hidden--visually\" id=\"sk-estimator-id-2\" type=\"checkbox\" checked><label for=\"sk-estimator-id-2\" class=\"sk-toggleable__label sk-toggleable__label-arrow\">DecisionTreeRegressor</label><div class=\"sk-toggleable__content\"><pre>DecisionTreeRegressor(max_depth=10, min_samples_split=30)</pre></div></div></div></div></div>"
      ],
      "text/plain": [
       "DecisionTreeRegressor(max_depth=10, min_samples_split=30)"
      ]
     },
     "execution_count": 26,
     "metadata": {},
     "output_type": "execute_result"
    }
   ],
   "source": [
    "TreeModel = DecisionTreeRegressor(min_samples_split=30, max_depth = 10)\n",
    "TreeModel.fit(Scaled_xtrain,y_train)"
   ]
  },
  {
   "cell_type": "code",
   "execution_count": 27,
   "id": "66cc238c",
   "metadata": {
    "execution": {
     "iopub.execute_input": "2025-05-24T20:28:49.256425Z",
     "iopub.status.busy": "2025-05-24T20:28:49.256067Z",
     "iopub.status.idle": "2025-05-24T20:28:49.261587Z",
     "shell.execute_reply": "2025-05-24T20:28:49.260577Z"
    },
    "papermill": {
     "duration": 0.023291,
     "end_time": "2025-05-24T20:28:49.263181",
     "exception": false,
     "start_time": "2025-05-24T20:28:49.239890",
     "status": "completed"
    },
    "tags": []
   },
   "outputs": [],
   "source": [
    "Rent_Tree = TreeModel.predict(Scaled_xtest)"
   ]
  },
  {
   "cell_type": "code",
   "execution_count": 28,
   "id": "4bca3886",
   "metadata": {
    "execution": {
     "iopub.execute_input": "2025-05-24T20:28:49.294824Z",
     "iopub.status.busy": "2025-05-24T20:28:49.294497Z",
     "iopub.status.idle": "2025-05-24T20:28:49.301585Z",
     "shell.execute_reply": "2025-05-24T20:28:49.300454Z"
    },
    "papermill": {
     "duration": 0.024775,
     "end_time": "2025-05-24T20:28:49.303127",
     "exception": false,
     "start_time": "2025-05-24T20:28:49.278352",
     "status": "completed"
    },
    "tags": []
   },
   "outputs": [
    {
     "name": "stdout",
     "output_type": "stream",
     "text": [
      " The coefficient of determination for this model is 0.6702562974709894\n"
     ]
    }
   ],
   "source": [
    "R2 = R2Score(TreeModel)\n",
    "print(\" The coefficient of determination for this model is \" + str(R2))\n"
   ]
  },
  {
   "cell_type": "code",
   "execution_count": 29,
   "id": "0dd5aa73",
   "metadata": {
    "execution": {
     "iopub.execute_input": "2025-05-24T20:28:49.335844Z",
     "iopub.status.busy": "2025-05-24T20:28:49.335513Z",
     "iopub.status.idle": "2025-05-24T20:28:49.341438Z",
     "shell.execute_reply": "2025-05-24T20:28:49.340381Z"
    },
    "papermill": {
     "duration": 0.024175,
     "end_time": "2025-05-24T20:28:49.342912",
     "exception": false,
     "start_time": "2025-05-24T20:28:49.318737",
     "status": "completed"
    },
    "tags": []
   },
   "outputs": [
    {
     "name": "stdout",
     "output_type": "stream",
     "text": [
      "The Square root of MSE is 36251.267447009806\n"
     ]
    }
   ],
   "source": [
    "RMSE2 = RootRSE(y_test, Rent_Tree)\n",
    "print(\"The Square root of MSE is \" +str(RMSE2) )"
   ]
  },
  {
   "cell_type": "markdown",
   "id": "a9036eae",
   "metadata": {
    "papermill": {
     "duration": 0.014733,
     "end_time": "2025-05-24T20:28:49.373005",
     "exception": false,
     "start_time": "2025-05-24T20:28:49.358272",
     "status": "completed"
    },
    "tags": []
   },
   "source": [
    "## 3. XGboost model"
   ]
  },
  {
   "cell_type": "code",
   "execution_count": 30,
   "id": "3f04d418",
   "metadata": {
    "execution": {
     "iopub.execute_input": "2025-05-24T20:28:49.404351Z",
     "iopub.status.busy": "2025-05-24T20:28:49.403976Z",
     "iopub.status.idle": "2025-05-24T20:28:49.813985Z",
     "shell.execute_reply": "2025-05-24T20:28:49.812950Z"
    },
    "papermill": {
     "duration": 0.428012,
     "end_time": "2025-05-24T20:28:49.815870",
     "exception": false,
     "start_time": "2025-05-24T20:28:49.387858",
     "status": "completed"
    },
    "tags": []
   },
   "outputs": [
    {
     "data": {
      "text/html": [
       "<style>#sk-container-id-3 {color: black;background-color: white;}#sk-container-id-3 pre{padding: 0;}#sk-container-id-3 div.sk-toggleable {background-color: white;}#sk-container-id-3 label.sk-toggleable__label {cursor: pointer;display: block;width: 100%;margin-bottom: 0;padding: 0.3em;box-sizing: border-box;text-align: center;}#sk-container-id-3 label.sk-toggleable__label-arrow:before {content: \"▸\";float: left;margin-right: 0.25em;color: #696969;}#sk-container-id-3 label.sk-toggleable__label-arrow:hover:before {color: black;}#sk-container-id-3 div.sk-estimator:hover label.sk-toggleable__label-arrow:before {color: black;}#sk-container-id-3 div.sk-toggleable__content {max-height: 0;max-width: 0;overflow: hidden;text-align: left;background-color: #f0f8ff;}#sk-container-id-3 div.sk-toggleable__content pre {margin: 0.2em;color: black;border-radius: 0.25em;background-color: #f0f8ff;}#sk-container-id-3 input.sk-toggleable__control:checked~div.sk-toggleable__content {max-height: 200px;max-width: 100%;overflow: auto;}#sk-container-id-3 input.sk-toggleable__control:checked~label.sk-toggleable__label-arrow:before {content: \"▾\";}#sk-container-id-3 div.sk-estimator input.sk-toggleable__control:checked~label.sk-toggleable__label {background-color: #d4ebff;}#sk-container-id-3 div.sk-label input.sk-toggleable__control:checked~label.sk-toggleable__label {background-color: #d4ebff;}#sk-container-id-3 input.sk-hidden--visually {border: 0;clip: rect(1px 1px 1px 1px);clip: rect(1px, 1px, 1px, 1px);height: 1px;margin: -1px;overflow: hidden;padding: 0;position: absolute;width: 1px;}#sk-container-id-3 div.sk-estimator {font-family: monospace;background-color: #f0f8ff;border: 1px dotted black;border-radius: 0.25em;box-sizing: border-box;margin-bottom: 0.5em;}#sk-container-id-3 div.sk-estimator:hover {background-color: #d4ebff;}#sk-container-id-3 div.sk-parallel-item::after {content: \"\";width: 100%;border-bottom: 1px solid gray;flex-grow: 1;}#sk-container-id-3 div.sk-label:hover label.sk-toggleable__label {background-color: #d4ebff;}#sk-container-id-3 div.sk-serial::before {content: \"\";position: absolute;border-left: 1px solid gray;box-sizing: border-box;top: 0;bottom: 0;left: 50%;z-index: 0;}#sk-container-id-3 div.sk-serial {display: flex;flex-direction: column;align-items: center;background-color: white;padding-right: 0.2em;padding-left: 0.2em;position: relative;}#sk-container-id-3 div.sk-item {position: relative;z-index: 1;}#sk-container-id-3 div.sk-parallel {display: flex;align-items: stretch;justify-content: center;background-color: white;position: relative;}#sk-container-id-3 div.sk-item::before, #sk-container-id-3 div.sk-parallel-item::before {content: \"\";position: absolute;border-left: 1px solid gray;box-sizing: border-box;top: 0;bottom: 0;left: 50%;z-index: -1;}#sk-container-id-3 div.sk-parallel-item {display: flex;flex-direction: column;z-index: 1;position: relative;background-color: white;}#sk-container-id-3 div.sk-parallel-item:first-child::after {align-self: flex-end;width: 50%;}#sk-container-id-3 div.sk-parallel-item:last-child::after {align-self: flex-start;width: 50%;}#sk-container-id-3 div.sk-parallel-item:only-child::after {width: 0;}#sk-container-id-3 div.sk-dashed-wrapped {border: 1px dashed gray;margin: 0 0.4em 0.5em 0.4em;box-sizing: border-box;padding-bottom: 0.4em;background-color: white;}#sk-container-id-3 div.sk-label label {font-family: monospace;font-weight: bold;display: inline-block;line-height: 1.2em;}#sk-container-id-3 div.sk-label-container {text-align: center;}#sk-container-id-3 div.sk-container {/* jupyter's `normalize.less` sets `[hidden] { display: none; }` but bootstrap.min.css set `[hidden] { display: none !important; }` so we also need the `!important` here to be able to override the default hidden behavior on the sphinx rendered scikit-learn.org. See: https://github.com/scikit-learn/scikit-learn/issues/21755 */display: inline-block !important;position: relative;}#sk-container-id-3 div.sk-text-repr-fallback {display: none;}</style><div id=\"sk-container-id-3\" class=\"sk-top-container\"><div class=\"sk-text-repr-fallback\"><pre>XGBRegressor(base_score=None, booster=None, callbacks=None,\n",
       "             colsample_bylevel=None, colsample_bynode=None,\n",
       "             colsample_bytree=None, device=None, early_stopping_rounds=None,\n",
       "             enable_categorical=False, eval_metric=None, feature_types=None,\n",
       "             gamma=None, grow_policy=None, importance_type=None,\n",
       "             interaction_constraints=None, learning_rate=None, max_bin=None,\n",
       "             max_cat_threshold=None, max_cat_to_onehot=None,\n",
       "             max_delta_step=None, max_depth=3, max_leaves=None,\n",
       "             min_child_weight=None, missing=nan, monotone_constraints=None,\n",
       "             multi_strategy=None, n_estimators=None, n_jobs=-1,\n",
       "             num_parallel_tree=None, random_state=None, ...)</pre><b>In a Jupyter environment, please rerun this cell to show the HTML representation or trust the notebook. <br />On GitHub, the HTML representation is unable to render, please try loading this page with nbviewer.org.</b></div><div class=\"sk-container\" hidden><div class=\"sk-item\"><div class=\"sk-estimator sk-toggleable\"><input class=\"sk-toggleable__control sk-hidden--visually\" id=\"sk-estimator-id-3\" type=\"checkbox\" checked><label for=\"sk-estimator-id-3\" class=\"sk-toggleable__label sk-toggleable__label-arrow\">XGBRegressor</label><div class=\"sk-toggleable__content\"><pre>XGBRegressor(base_score=None, booster=None, callbacks=None,\n",
       "             colsample_bylevel=None, colsample_bynode=None,\n",
       "             colsample_bytree=None, device=None, early_stopping_rounds=None,\n",
       "             enable_categorical=False, eval_metric=None, feature_types=None,\n",
       "             gamma=None, grow_policy=None, importance_type=None,\n",
       "             interaction_constraints=None, learning_rate=None, max_bin=None,\n",
       "             max_cat_threshold=None, max_cat_to_onehot=None,\n",
       "             max_delta_step=None, max_depth=3, max_leaves=None,\n",
       "             min_child_weight=None, missing=nan, monotone_constraints=None,\n",
       "             multi_strategy=None, n_estimators=None, n_jobs=-1,\n",
       "             num_parallel_tree=None, random_state=None, ...)</pre></div></div></div></div></div>"
      ],
      "text/plain": [
       "XGBRegressor(base_score=None, booster=None, callbacks=None,\n",
       "             colsample_bylevel=None, colsample_bynode=None,\n",
       "             colsample_bytree=None, device=None, early_stopping_rounds=None,\n",
       "             enable_categorical=False, eval_metric=None, feature_types=None,\n",
       "             gamma=None, grow_policy=None, importance_type=None,\n",
       "             interaction_constraints=None, learning_rate=None, max_bin=None,\n",
       "             max_cat_threshold=None, max_cat_to_onehot=None,\n",
       "             max_delta_step=None, max_depth=3, max_leaves=None,\n",
       "             min_child_weight=None, missing=nan, monotone_constraints=None,\n",
       "             multi_strategy=None, n_estimators=None, n_jobs=-1,\n",
       "             num_parallel_tree=None, random_state=None, ...)"
      ]
     },
     "execution_count": 30,
     "metadata": {},
     "output_type": "execute_result"
    }
   ],
   "source": [
    "from xgboost import XGBRegressor\n",
    "xgbModel = XGBRegressor(max_depth = 3, n_jobs=-1)\n",
    "xgbModel.fit(Scaled_xtrain, y_train)"
   ]
  },
  {
   "cell_type": "code",
   "execution_count": 31,
   "id": "79d72626",
   "metadata": {
    "execution": {
     "iopub.execute_input": "2025-05-24T20:28:49.850323Z",
     "iopub.status.busy": "2025-05-24T20:28:49.849965Z",
     "iopub.status.idle": "2025-05-24T20:28:49.858076Z",
     "shell.execute_reply": "2025-05-24T20:28:49.857369Z"
    },
    "papermill": {
     "duration": 0.025863,
     "end_time": "2025-05-24T20:28:49.859918",
     "exception": false,
     "start_time": "2025-05-24T20:28:49.834055",
     "status": "completed"
    },
    "tags": []
   },
   "outputs": [],
   "source": [
    "RentPredxgb = xgbModel.predict(Scaled_xtest)"
   ]
  },
  {
   "cell_type": "code",
   "execution_count": 32,
   "id": "e7b6b791",
   "metadata": {
    "execution": {
     "iopub.execute_input": "2025-05-24T20:28:49.894979Z",
     "iopub.status.busy": "2025-05-24T20:28:49.894123Z",
     "iopub.status.idle": "2025-05-24T20:28:49.902958Z",
     "shell.execute_reply": "2025-05-24T20:28:49.902190Z"
    },
    "papermill": {
     "duration": 0.026671,
     "end_time": "2025-05-24T20:28:49.904624",
     "exception": false,
     "start_time": "2025-05-24T20:28:49.877953",
     "status": "completed"
    },
    "tags": []
   },
   "outputs": [
    {
     "name": "stdout",
     "output_type": "stream",
     "text": [
      " The coefficient of determination for this model is 0.5631245186864029\n"
     ]
    }
   ],
   "source": [
    "R3 = R2Score(xgbModel)\n",
    "print(\" The coefficient of determination for this model is \" + str(R3))"
   ]
  },
  {
   "cell_type": "code",
   "execution_count": 33,
   "id": "6ad19a42",
   "metadata": {
    "execution": {
     "iopub.execute_input": "2025-05-24T20:28:49.938793Z",
     "iopub.status.busy": "2025-05-24T20:28:49.938445Z",
     "iopub.status.idle": "2025-05-24T20:28:49.944872Z",
     "shell.execute_reply": "2025-05-24T20:28:49.944013Z"
    },
    "papermill": {
     "duration": 0.024182,
     "end_time": "2025-05-24T20:28:49.946326",
     "exception": false,
     "start_time": "2025-05-24T20:28:49.922144",
     "status": "completed"
    },
    "tags": []
   },
   "outputs": [
    {
     "name": "stdout",
     "output_type": "stream",
     "text": [
      "The Square root of MSE is 41726.674695669855\n"
     ]
    }
   ],
   "source": [
    "RMSE3 = RootRSE(y_test, RentPredxgb)\n",
    "print(\"The Square root of MSE is \" +str(RMSE3) )"
   ]
  },
  {
   "cell_type": "markdown",
   "id": "dc2b04cc",
   "metadata": {
    "papermill": {
     "duration": 0.014573,
     "end_time": "2025-05-24T20:28:49.975944",
     "exception": false,
     "start_time": "2025-05-24T20:28:49.961371",
     "status": "completed"
    },
    "tags": []
   },
   "source": [
    "## 4. Gradient Boost Model"
   ]
  },
  {
   "cell_type": "code",
   "execution_count": 34,
   "id": "c6fc3714",
   "metadata": {
    "execution": {
     "iopub.execute_input": "2025-05-24T20:28:50.008017Z",
     "iopub.status.busy": "2025-05-24T20:28:50.007688Z",
     "iopub.status.idle": "2025-05-24T20:28:51.417817Z",
     "shell.execute_reply": "2025-05-24T20:28:51.416750Z"
    },
    "papermill": {
     "duration": 1.428602,
     "end_time": "2025-05-24T20:28:51.419515",
     "exception": false,
     "start_time": "2025-05-24T20:28:49.990913",
     "status": "completed"
    },
    "tags": []
   },
   "outputs": [
    {
     "data": {
      "text/html": [
       "<style>#sk-container-id-4 {color: black;background-color: white;}#sk-container-id-4 pre{padding: 0;}#sk-container-id-4 div.sk-toggleable {background-color: white;}#sk-container-id-4 label.sk-toggleable__label {cursor: pointer;display: block;width: 100%;margin-bottom: 0;padding: 0.3em;box-sizing: border-box;text-align: center;}#sk-container-id-4 label.sk-toggleable__label-arrow:before {content: \"▸\";float: left;margin-right: 0.25em;color: #696969;}#sk-container-id-4 label.sk-toggleable__label-arrow:hover:before {color: black;}#sk-container-id-4 div.sk-estimator:hover label.sk-toggleable__label-arrow:before {color: black;}#sk-container-id-4 div.sk-toggleable__content {max-height: 0;max-width: 0;overflow: hidden;text-align: left;background-color: #f0f8ff;}#sk-container-id-4 div.sk-toggleable__content pre {margin: 0.2em;color: black;border-radius: 0.25em;background-color: #f0f8ff;}#sk-container-id-4 input.sk-toggleable__control:checked~div.sk-toggleable__content {max-height: 200px;max-width: 100%;overflow: auto;}#sk-container-id-4 input.sk-toggleable__control:checked~label.sk-toggleable__label-arrow:before {content: \"▾\";}#sk-container-id-4 div.sk-estimator input.sk-toggleable__control:checked~label.sk-toggleable__label {background-color: #d4ebff;}#sk-container-id-4 div.sk-label input.sk-toggleable__control:checked~label.sk-toggleable__label {background-color: #d4ebff;}#sk-container-id-4 input.sk-hidden--visually {border: 0;clip: rect(1px 1px 1px 1px);clip: rect(1px, 1px, 1px, 1px);height: 1px;margin: -1px;overflow: hidden;padding: 0;position: absolute;width: 1px;}#sk-container-id-4 div.sk-estimator {font-family: monospace;background-color: #f0f8ff;border: 1px dotted black;border-radius: 0.25em;box-sizing: border-box;margin-bottom: 0.5em;}#sk-container-id-4 div.sk-estimator:hover {background-color: #d4ebff;}#sk-container-id-4 div.sk-parallel-item::after {content: \"\";width: 100%;border-bottom: 1px solid gray;flex-grow: 1;}#sk-container-id-4 div.sk-label:hover label.sk-toggleable__label {background-color: #d4ebff;}#sk-container-id-4 div.sk-serial::before {content: \"\";position: absolute;border-left: 1px solid gray;box-sizing: border-box;top: 0;bottom: 0;left: 50%;z-index: 0;}#sk-container-id-4 div.sk-serial {display: flex;flex-direction: column;align-items: center;background-color: white;padding-right: 0.2em;padding-left: 0.2em;position: relative;}#sk-container-id-4 div.sk-item {position: relative;z-index: 1;}#sk-container-id-4 div.sk-parallel {display: flex;align-items: stretch;justify-content: center;background-color: white;position: relative;}#sk-container-id-4 div.sk-item::before, #sk-container-id-4 div.sk-parallel-item::before {content: \"\";position: absolute;border-left: 1px solid gray;box-sizing: border-box;top: 0;bottom: 0;left: 50%;z-index: -1;}#sk-container-id-4 div.sk-parallel-item {display: flex;flex-direction: column;z-index: 1;position: relative;background-color: white;}#sk-container-id-4 div.sk-parallel-item:first-child::after {align-self: flex-end;width: 50%;}#sk-container-id-4 div.sk-parallel-item:last-child::after {align-self: flex-start;width: 50%;}#sk-container-id-4 div.sk-parallel-item:only-child::after {width: 0;}#sk-container-id-4 div.sk-dashed-wrapped {border: 1px dashed gray;margin: 0 0.4em 0.5em 0.4em;box-sizing: border-box;padding-bottom: 0.4em;background-color: white;}#sk-container-id-4 div.sk-label label {font-family: monospace;font-weight: bold;display: inline-block;line-height: 1.2em;}#sk-container-id-4 div.sk-label-container {text-align: center;}#sk-container-id-4 div.sk-container {/* jupyter's `normalize.less` sets `[hidden] { display: none; }` but bootstrap.min.css set `[hidden] { display: none !important; }` so we also need the `!important` here to be able to override the default hidden behavior on the sphinx rendered scikit-learn.org. See: https://github.com/scikit-learn/scikit-learn/issues/21755 */display: inline-block !important;position: relative;}#sk-container-id-4 div.sk-text-repr-fallback {display: none;}</style><div id=\"sk-container-id-4\" class=\"sk-top-container\"><div class=\"sk-text-repr-fallback\"><pre>GradientBoostingRegressor(min_samples_split=20, n_estimators=300)</pre><b>In a Jupyter environment, please rerun this cell to show the HTML representation or trust the notebook. <br />On GitHub, the HTML representation is unable to render, please try loading this page with nbviewer.org.</b></div><div class=\"sk-container\" hidden><div class=\"sk-item\"><div class=\"sk-estimator sk-toggleable\"><input class=\"sk-toggleable__control sk-hidden--visually\" id=\"sk-estimator-id-4\" type=\"checkbox\" checked><label for=\"sk-estimator-id-4\" class=\"sk-toggleable__label sk-toggleable__label-arrow\">GradientBoostingRegressor</label><div class=\"sk-toggleable__content\"><pre>GradientBoostingRegressor(min_samples_split=20, n_estimators=300)</pre></div></div></div></div></div>"
      ],
      "text/plain": [
       "GradientBoostingRegressor(min_samples_split=20, n_estimators=300)"
      ]
     },
     "execution_count": 34,
     "metadata": {},
     "output_type": "execute_result"
    }
   ],
   "source": [
    "from sklearn.ensemble import GradientBoostingRegressor\n",
    "BoostingModel = GradientBoostingRegressor(n_estimators = 300, min_samples_split=20)\n",
    "BoostingModel.fit(Scaled_xtrain,y_train)\n",
    "\n"
   ]
  },
  {
   "cell_type": "code",
   "execution_count": 35,
   "id": "30da8cb6",
   "metadata": {
    "execution": {
     "iopub.execute_input": "2025-05-24T20:28:51.451781Z",
     "iopub.status.busy": "2025-05-24T20:28:51.451444Z",
     "iopub.status.idle": "2025-05-24T20:28:51.460470Z",
     "shell.execute_reply": "2025-05-24T20:28:51.459319Z"
    },
    "papermill": {
     "duration": 0.027234,
     "end_time": "2025-05-24T20:28:51.462124",
     "exception": false,
     "start_time": "2025-05-24T20:28:51.434890",
     "status": "completed"
    },
    "tags": []
   },
   "outputs": [],
   "source": [
    "RentPredBoost = BoostingModel.predict(Scaled_xtest)"
   ]
  },
  {
   "cell_type": "code",
   "execution_count": 36,
   "id": "07cb34fb",
   "metadata": {
    "execution": {
     "iopub.execute_input": "2025-05-24T20:28:51.497692Z",
     "iopub.status.busy": "2025-05-24T20:28:51.496905Z",
     "iopub.status.idle": "2025-05-24T20:28:51.508131Z",
     "shell.execute_reply": "2025-05-24T20:28:51.506846Z"
    },
    "papermill": {
     "duration": 0.031994,
     "end_time": "2025-05-24T20:28:51.509970",
     "exception": false,
     "start_time": "2025-05-24T20:28:51.477976",
     "status": "completed"
    },
    "tags": []
   },
   "outputs": [
    {
     "name": "stdout",
     "output_type": "stream",
     "text": [
      " The coefficient of determination for this model is 0.6641974342017753\n"
     ]
    }
   ],
   "source": [
    "R4 = R2Score(BoostingModel)\n",
    "print(\" The coefficient of determination for this model is \" + str(R4))"
   ]
  },
  {
   "cell_type": "code",
   "execution_count": 37,
   "id": "18b73853",
   "metadata": {
    "execution": {
     "iopub.execute_input": "2025-05-24T20:28:51.543450Z",
     "iopub.status.busy": "2025-05-24T20:28:51.543082Z",
     "iopub.status.idle": "2025-05-24T20:28:51.549324Z",
     "shell.execute_reply": "2025-05-24T20:28:51.548411Z"
    },
    "papermill": {
     "duration": 0.024296,
     "end_time": "2025-05-24T20:28:51.550693",
     "exception": false,
     "start_time": "2025-05-24T20:28:51.526397",
     "status": "completed"
    },
    "tags": []
   },
   "outputs": [
    {
     "name": "stdout",
     "output_type": "stream",
     "text": [
      " The RMSE for this model is 36582.80022074671\n"
     ]
    }
   ],
   "source": [
    "MSE = RootRSE(y_test, RentPredBoost)\n",
    "print(\" The RMSE for this model is \" + str(MSE))"
   ]
  },
  {
   "cell_type": "markdown",
   "id": "bdcbabb8",
   "metadata": {
    "papermill": {
     "duration": 0.014885,
     "end_time": "2025-05-24T20:28:51.581647",
     "exception": false,
     "start_time": "2025-05-24T20:28:51.566762",
     "status": "completed"
    },
    "tags": []
   },
   "source": [
    "## 5. Random Forest"
   ]
  },
  {
   "cell_type": "code",
   "execution_count": 38,
   "id": "c2fa786b",
   "metadata": {
    "execution": {
     "iopub.execute_input": "2025-05-24T20:28:51.613430Z",
     "iopub.status.busy": "2025-05-24T20:28:51.613051Z",
     "iopub.status.idle": "2025-05-24T20:28:52.817639Z",
     "shell.execute_reply": "2025-05-24T20:28:52.816659Z"
    },
    "papermill": {
     "duration": 1.22252,
     "end_time": "2025-05-24T20:28:52.819375",
     "exception": false,
     "start_time": "2025-05-24T20:28:51.596855",
     "status": "completed"
    },
    "tags": []
   },
   "outputs": [
    {
     "data": {
      "text/html": [
       "<style>#sk-container-id-5 {color: black;background-color: white;}#sk-container-id-5 pre{padding: 0;}#sk-container-id-5 div.sk-toggleable {background-color: white;}#sk-container-id-5 label.sk-toggleable__label {cursor: pointer;display: block;width: 100%;margin-bottom: 0;padding: 0.3em;box-sizing: border-box;text-align: center;}#sk-container-id-5 label.sk-toggleable__label-arrow:before {content: \"▸\";float: left;margin-right: 0.25em;color: #696969;}#sk-container-id-5 label.sk-toggleable__label-arrow:hover:before {color: black;}#sk-container-id-5 div.sk-estimator:hover label.sk-toggleable__label-arrow:before {color: black;}#sk-container-id-5 div.sk-toggleable__content {max-height: 0;max-width: 0;overflow: hidden;text-align: left;background-color: #f0f8ff;}#sk-container-id-5 div.sk-toggleable__content pre {margin: 0.2em;color: black;border-radius: 0.25em;background-color: #f0f8ff;}#sk-container-id-5 input.sk-toggleable__control:checked~div.sk-toggleable__content {max-height: 200px;max-width: 100%;overflow: auto;}#sk-container-id-5 input.sk-toggleable__control:checked~label.sk-toggleable__label-arrow:before {content: \"▾\";}#sk-container-id-5 div.sk-estimator input.sk-toggleable__control:checked~label.sk-toggleable__label {background-color: #d4ebff;}#sk-container-id-5 div.sk-label input.sk-toggleable__control:checked~label.sk-toggleable__label {background-color: #d4ebff;}#sk-container-id-5 input.sk-hidden--visually {border: 0;clip: rect(1px 1px 1px 1px);clip: rect(1px, 1px, 1px, 1px);height: 1px;margin: -1px;overflow: hidden;padding: 0;position: absolute;width: 1px;}#sk-container-id-5 div.sk-estimator {font-family: monospace;background-color: #f0f8ff;border: 1px dotted black;border-radius: 0.25em;box-sizing: border-box;margin-bottom: 0.5em;}#sk-container-id-5 div.sk-estimator:hover {background-color: #d4ebff;}#sk-container-id-5 div.sk-parallel-item::after {content: \"\";width: 100%;border-bottom: 1px solid gray;flex-grow: 1;}#sk-container-id-5 div.sk-label:hover label.sk-toggleable__label {background-color: #d4ebff;}#sk-container-id-5 div.sk-serial::before {content: \"\";position: absolute;border-left: 1px solid gray;box-sizing: border-box;top: 0;bottom: 0;left: 50%;z-index: 0;}#sk-container-id-5 div.sk-serial {display: flex;flex-direction: column;align-items: center;background-color: white;padding-right: 0.2em;padding-left: 0.2em;position: relative;}#sk-container-id-5 div.sk-item {position: relative;z-index: 1;}#sk-container-id-5 div.sk-parallel {display: flex;align-items: stretch;justify-content: center;background-color: white;position: relative;}#sk-container-id-5 div.sk-item::before, #sk-container-id-5 div.sk-parallel-item::before {content: \"\";position: absolute;border-left: 1px solid gray;box-sizing: border-box;top: 0;bottom: 0;left: 50%;z-index: -1;}#sk-container-id-5 div.sk-parallel-item {display: flex;flex-direction: column;z-index: 1;position: relative;background-color: white;}#sk-container-id-5 div.sk-parallel-item:first-child::after {align-self: flex-end;width: 50%;}#sk-container-id-5 div.sk-parallel-item:last-child::after {align-self: flex-start;width: 50%;}#sk-container-id-5 div.sk-parallel-item:only-child::after {width: 0;}#sk-container-id-5 div.sk-dashed-wrapped {border: 1px dashed gray;margin: 0 0.4em 0.5em 0.4em;box-sizing: border-box;padding-bottom: 0.4em;background-color: white;}#sk-container-id-5 div.sk-label label {font-family: monospace;font-weight: bold;display: inline-block;line-height: 1.2em;}#sk-container-id-5 div.sk-label-container {text-align: center;}#sk-container-id-5 div.sk-container {/* jupyter's `normalize.less` sets `[hidden] { display: none; }` but bootstrap.min.css set `[hidden] { display: none !important; }` so we also need the `!important` here to be able to override the default hidden behavior on the sphinx rendered scikit-learn.org. See: https://github.com/scikit-learn/scikit-learn/issues/21755 */display: inline-block !important;position: relative;}#sk-container-id-5 div.sk-text-repr-fallback {display: none;}</style><div id=\"sk-container-id-5\" class=\"sk-top-container\"><div class=\"sk-text-repr-fallback\"><pre>RandomForestRegressor(max_depth=10, min_samples_split=30, n_estimators=300,\n",
       "                      n_jobs=-1, random_state=0)</pre><b>In a Jupyter environment, please rerun this cell to show the HTML representation or trust the notebook. <br />On GitHub, the HTML representation is unable to render, please try loading this page with nbviewer.org.</b></div><div class=\"sk-container\" hidden><div class=\"sk-item\"><div class=\"sk-estimator sk-toggleable\"><input class=\"sk-toggleable__control sk-hidden--visually\" id=\"sk-estimator-id-5\" type=\"checkbox\" checked><label for=\"sk-estimator-id-5\" class=\"sk-toggleable__label sk-toggleable__label-arrow\">RandomForestRegressor</label><div class=\"sk-toggleable__content\"><pre>RandomForestRegressor(max_depth=10, min_samples_split=30, n_estimators=300,\n",
       "                      n_jobs=-1, random_state=0)</pre></div></div></div></div></div>"
      ],
      "text/plain": [
       "RandomForestRegressor(max_depth=10, min_samples_split=30, n_estimators=300,\n",
       "                      n_jobs=-1, random_state=0)"
      ]
     },
     "execution_count": 38,
     "metadata": {},
     "output_type": "execute_result"
    }
   ],
   "source": [
    "from sklearn.ensemble import RandomForestRegressor\n",
    "ForestModel = RandomForestRegressor(n_estimators =300, max_depth = 10, min_samples_split = 30, n_jobs = -1, random_state = 0)\n",
    "ForestModel.fit(Scaled_xtrain,y_train)"
   ]
  },
  {
   "cell_type": "code",
   "execution_count": 39,
   "id": "c92e1ab8",
   "metadata": {
    "execution": {
     "iopub.execute_input": "2025-05-24T20:28:52.853996Z",
     "iopub.status.busy": "2025-05-24T20:28:52.853074Z",
     "iopub.status.idle": "2025-05-24T20:28:52.958720Z",
     "shell.execute_reply": "2025-05-24T20:28:52.957677Z"
    },
    "papermill": {
     "duration": 0.125056,
     "end_time": "2025-05-24T20:28:52.960766",
     "exception": false,
     "start_time": "2025-05-24T20:28:52.835710",
     "status": "completed"
    },
    "tags": []
   },
   "outputs": [],
   "source": [
    "RentPredForest = ForestModel.predict(Scaled_xtest)"
   ]
  },
  {
   "cell_type": "code",
   "execution_count": 40,
   "id": "098962d0",
   "metadata": {
    "execution": {
     "iopub.execute_input": "2025-05-24T20:28:53.014418Z",
     "iopub.status.busy": "2025-05-24T20:28:53.014069Z",
     "iopub.status.idle": "2025-05-24T20:28:53.121611Z",
     "shell.execute_reply": "2025-05-24T20:28:53.120134Z"
    },
    "papermill": {
     "duration": 0.136742,
     "end_time": "2025-05-24T20:28:53.123607",
     "exception": false,
     "start_time": "2025-05-24T20:28:52.986865",
     "status": "completed"
    },
    "tags": []
   },
   "outputs": [
    {
     "name": "stdout",
     "output_type": "stream",
     "text": [
      " The coefficient of determination for this model is 0.7183358884934666\n"
     ]
    }
   ],
   "source": [
    "R5 = R2Score(ForestModel)\n",
    "print(\" The coefficient of determination for this model is \" + str(R5))"
   ]
  },
  {
   "cell_type": "code",
   "execution_count": 41,
   "id": "637269d8",
   "metadata": {
    "execution": {
     "iopub.execute_input": "2025-05-24T20:28:53.157840Z",
     "iopub.status.busy": "2025-05-24T20:28:53.157480Z",
     "iopub.status.idle": "2025-05-24T20:28:53.164313Z",
     "shell.execute_reply": "2025-05-24T20:28:53.162558Z"
    },
    "papermill": {
     "duration": 0.025765,
     "end_time": "2025-05-24T20:28:53.166164",
     "exception": false,
     "start_time": "2025-05-24T20:28:53.140399",
     "status": "completed"
    },
    "tags": []
   },
   "outputs": [
    {
     "name": "stdout",
     "output_type": "stream",
     "text": [
      " The RMSE for this model is 33504.31147951446\n"
     ]
    }
   ],
   "source": [
    "R = RootRSE(y_test, RentPredForest)\n",
    "print(\" The RMSE for this model is \" + str(R))"
   ]
  },
  {
   "cell_type": "markdown",
   "id": "cbb95287",
   "metadata": {
    "papermill": {
     "duration": 0.016143,
     "end_time": "2025-05-24T20:28:53.199719",
     "exception": false,
     "start_time": "2025-05-24T20:28:53.183576",
     "status": "completed"
    },
    "tags": []
   },
   "source": [
    "## Model evaluation\n",
    "\n",
    "After five models have been trained on the training data, we can see that **the random forest model** has proven to be the best model having the best R2 score of 0.71 and the least RMSE of approximately 33504\n",
    "\n",
    "## Feature Importance\n",
    "\n",
    "The i finalised by evaluating which feature or explantory variables are important in determining house rent."
   ]
  },
  {
   "cell_type": "code",
   "execution_count": 42,
   "id": "d9dd2e05",
   "metadata": {
    "execution": {
     "iopub.execute_input": "2025-05-24T20:28:53.232744Z",
     "iopub.status.busy": "2025-05-24T20:28:53.232404Z",
     "iopub.status.idle": "2025-05-24T20:28:53.554303Z",
     "shell.execute_reply": "2025-05-24T20:28:53.553190Z"
    },
    "papermill": {
     "duration": 0.340852,
     "end_time": "2025-05-24T20:28:53.556278",
     "exception": false,
     "start_time": "2025-05-24T20:28:53.215426",
     "status": "completed"
    },
    "tags": []
   },
   "outputs": [
    {
     "name": "stdout",
     "output_type": "stream",
     "text": [
      "feature: 0,feature: 0.00410\n",
      "feature: 1,feature: 0.38702\n",
      "feature: 2,feature: 0.00852\n",
      "feature: 3,feature: 0.00062\n",
      "feature: 4,feature: 0.01321\n",
      "feature: 5,feature: 0.19138\n",
      "feature: 6,feature: 0.00284\n",
      "feature: 7,feature: 0.00131\n",
      "feature: 8,feature: 0.34650\n",
      "feature: 9,feature: 0.04450\n"
     ]
    },
    {
     "data": {
      "image/png": "[encoded data removed]",
      "text/plain": [
       "<Figure size 640x480 with 1 Axes>"
      ]
     },
     "metadata": {},
     "output_type": "display_data"
    }
   ],
   "source": [
    "Important_feature = ForestModel.feature_importances_\n",
    "for i, v in enumerate (Important_feature):\n",
    "    print(\"feature: %d,feature: %.5f\" %(i, v))\n",
    "\n",
    "sns.set()\n",
    "plt.bar([x for x in range (len(Important_feature))],Important_feature)\n",
    "plt.title(\"Bar plot showing significance of each Explanatory variable\")\n",
    "plt.show()"
   ]
  }
 ],
 "metadata": {
  "kaggle": {
   "accelerator": "none",
   "dataSources": [
    {
     "datasetId": 2355600,
     "sourceId": 4097760,
     "sourceType": "datasetVersion"
    }
   ],
   "dockerImageVersionId": 31040,
   "isGpuEnabled": false,
   "isInternetEnabled": false,
   "language": "python",
   "sourceType": "notebook"
  },
  "kernelspec": {
   "display_name": "Python 3",
   "language": "python",
   "name": "python3"
  },
  "language_info": {
   "codemirror_mode": {
    "name": "ipython",
    "version": 3
   },
   "file_extension": ".py",
   "mimetype": "text/x-python",
   "name": "python",
   "nbconvert_exporter": "python",
   "pygments_lexer": "ipython3",
   "version": "3.11.11"
  },
  "papermill": {
   "default_parameters": {},
   "duration": 18.409584,
   "end_time": "2025-05-24T20:28:54.396761",
   "environment_variables": {},
   "exception": null,
   "input_path": "__notebook__.ipynb",
   "output_path": "__notebook__.ipynb",
   "parameters": {},
   "start_time": "2025-05-24T20:28:35.987177",
   "version": "2.6.0"
  }
 },
 "nbformat": 4,
 "nbformat_minor": 5
}
